{
 "cells": [
  {
   "cell_type": "markdown",
   "metadata": {
    "application/vnd.databricks.v1+cell": {
     "cellMetadata": {},
     "inputWidgets": {},
     "nuid": "b8f6ebb2-bd1f-472b-9df9-3315acf55566",
     "showTitle": false,
     "title": ""
    }
   },
   "source": [
    "### Camada Gold (Delta): Criação de Fatos e Dimensões"
   ]
  },
  {
   "cell_type": "code",
   "execution_count": 0,
   "metadata": {
    "application/vnd.databricks.v1+cell": {
     "cellMetadata": {
      "byteLimit": 2048000,
      "rowLimit": 10000
     },
     "inputWidgets": {},
     "nuid": "a6398c78-3c20-4556-879c-1a7d68216bcd",
     "showTitle": false,
     "title": ""
    }
   },
   "outputs": [],
   "source": [
    "from pyspark.sql import SparkSession\n",
    "\n",
    "# Create a SparkSession with the required configurations for Delta Lake\n",
    "spark = SparkSession.builder \\\n",
    "    .appName(\"Carga Delta\") \\\n",
    "    .config(\"spark.sql.extensions\", \"io.delta.sql.DeltaSparkSessionExtension\") \\\n",
    "    .config(\"spark.sql.catalog.spark_catalog\", \"org.apache.spark.sql.delta.catalog.DeltaCatalog\") \\\n",
    "    .getOrCreate()"
   ]
  },
  {
   "cell_type": "code",
   "execution_count": 0,
   "metadata": {
    "application/vnd.databricks.v1+cell": {
     "cellMetadata": {
      "byteLimit": 2048000,
      "rowLimit": 10000
     },
     "inputWidgets": {},
     "nuid": "323ae8a3-5aa0-43ef-bbbf-ffcc462406f1",
     "showTitle": false,
     "title": ""
    }
   },
   "outputs": [],
   "source": [
    "# Define os caminhos de armazenamento no Data Lake\n",
    "silver_path = \"/mnt/lhdw/silver/vendas\"\n",
    "gold_path = \"/mnt/lhdw/gold/vendas_delta\"\n",
    "gold_fato_path = \"/mnt/lhdw/gold/vendas_delta/fato_vendas\""
   ]
  },
  {
   "cell_type": "markdown",
   "metadata": {
    "application/vnd.databricks.v1+cell": {
     "cellMetadata": {},
     "inputWidgets": {},
     "nuid": "42e123f4-c2b6-4147-ad69-54a5a21c91d3",
     "showTitle": false,
     "title": ""
    }
   },
   "source": [
    "### Ler dados Camada Silver\n",
    "Filtrado pela maior data na tabela fato"
   ]
  },
  {
   "cell_type": "code",
   "execution_count": 0,
   "metadata": {
    "application/vnd.databricks.v1+cell": {
     "cellMetadata": {
      "byteLimit": 2048000,
      "rowLimit": 10000
     },
     "inputWidgets": {},
     "nuid": "ed422817-9bbb-4677-9cec-460924d1fe2b",
     "showTitle": false,
     "title": ""
    }
   },
   "outputs": [
    {
     "output_type": "stream",
     "name": "stdout",
     "output_type": "stream",
     "text": [
      "datetime.date(2011, 12, 31)Out[3]: 116895"
     ]
    }
   ],
   "source": [
    "from pyspark.sql.functions import date_sub, lit\n",
    "\n",
    "# Ler a maior data de venda da tabela fato_vendas\n",
    "max_data_venda = spark.read.format(\"delta\").load(gold_fato_path) \\\n",
    "                          .selectExpr(\"max(DataVenda) as MaxDataVenda\") \\\n",
    "                          .collect()[0][\"MaxDataVenda\"]\n",
    "\n",
    "display(max_data_venda)\n",
    "\n",
    "# Carregar dados da Silver filtrando pela DataVenda maior que a obtida acima\n",
    "df_silver = spark.read.format(\"parquet\").load(silver_path) \\\n",
    "                          .filter(f\"Data > '{max_data_venda}'\")\n",
    "\n",
    "df_silver.count()                          "
   ]
  },
  {
   "cell_type": "markdown",
   "metadata": {
    "application/vnd.databricks.v1+cell": {
     "cellMetadata": {},
     "inputWidgets": {},
     "nuid": "ae2901bb-159e-4c49-a35a-5794d4147069",
     "showTitle": false,
     "title": ""
    }
   },
   "source": [
    "### Criação da Dimensão Produto"
   ]
  },
  {
   "cell_type": "code",
   "execution_count": 0,
   "metadata": {
    "application/vnd.databricks.v1+cell": {
     "cellMetadata": {
      "byteLimit": 2048000,
      "rowLimit": 10000
     },
     "inputWidgets": {},
     "nuid": "2cd61be0-b1b8-4087-bbce-48a15691d94a",
     "showTitle": false,
     "title": ""
    }
   },
   "outputs": [
    {
     "output_type": "display_data",
     "data": {
      "text/html": [
       "<style scoped>\n",
       "  .table-result-container {\n",
       "    max-height: 300px;\n",
       "    overflow: auto;\n",
       "  }\n",
       "  table, th, td {\n",
       "    border: 1px solid black;\n",
       "    border-collapse: collapse;\n",
       "  }\n",
       "  th, td {\n",
       "    padding: 5px;\n",
       "  }\n",
       "  th {\n",
       "    text-align: left;\n",
       "  }\n",
       "</style><div class='table-result-container'><table class='table-result'><thead style='background-color: white'><tr><th>IDProduto</th><th>Produto</th><th>Categoria</th><th>sk_produto</th><th>data_atualizacao</th></tr></thead><tbody><tr><td>585</td><td>Maximus UC-50</td><td>Urban</td><td>1</td><td>2024-10-01T17:17:33.763+0000</td></tr><tr><td>555</td><td>Maximus UC-20</td><td>Mix</td><td>2</td><td>2024-10-01T17:17:33.763+0000</td></tr><tr><td>423</td><td>Maximus UM-28</td><td>Urban</td><td>3</td><td>2024-10-01T17:17:33.763+0000</td></tr><tr><td>681</td><td>Maximus UC-46</td><td>Urban</td><td>4</td><td>2024-10-01T17:17:33.763+0000</td></tr><tr><td>628</td><td>Maximus UC-93</td><td>Urban</td><td>5</td><td>2024-10-01T17:17:33.763+0000</td></tr><tr><td>415</td><td>Maximus UM-20</td><td>Urban</td><td>6</td><td>2024-10-01T17:17:33.763+0000</td></tr><tr><td>547</td><td>Maximus UC-12</td><td>Mix</td><td>7</td><td>2024-10-01T17:17:33.763+0000</td></tr><tr><td>653</td><td>Maximus UC-18</td><td>Urban</td><td>8</td><td>2024-10-01T17:17:33.763+0000</td></tr><tr><td>512</td><td>Maximus UR-01</td><td>Urban</td><td>9</td><td>2024-10-01T17:17:33.763+0000</td></tr><tr><td>520</td><td>Maximus UE-08</td><td>Urban</td><td>10</td><td>2024-10-01T17:17:33.763+0000</td></tr><tr><td>609</td><td>Maximus UC-74</td><td>Urban</td><td>11</td><td>2024-10-01T17:17:33.763+0000</td></tr><tr><td>471</td><td>Maximus UM-76</td><td>Urban</td><td>12</td><td>2024-10-01T17:17:33.763+0000</td></tr><tr><td>686</td><td>Maximus UC-51</td><td>Urban</td><td>13</td><td>2024-10-01T17:17:33.763+0000</td></tr><tr><td>528</td><td>Maximus UE-16</td><td>Urban</td><td>14</td><td>2024-10-01T17:17:33.763+0000</td></tr><tr><td>501</td><td>Maximus UM-06</td><td>Urban</td><td>15</td><td>2024-10-01T17:17:33.763+0000</td></tr><tr><td>577</td><td>Maximus UC-42</td><td>Urban</td><td>16</td><td>2024-10-01T17:17:33.763+0000</td></tr><tr><td>538</td><td>Maximus UC-03</td><td>Mix</td><td>17</td><td>2024-10-01T17:17:33.763+0000</td></tr><tr><td>578</td><td>Maximus UC-43</td><td>Urban</td><td>18</td><td>2024-10-01T17:17:33.763+0000</td></tr><tr><td>690</td><td>Maximus UC-55</td><td>Urban</td><td>19</td><td>2024-10-01T17:17:33.763+0000</td></tr><tr><td>515</td><td>Maximus UE-03</td><td>Urban</td><td>20</td><td>2024-10-01T17:17:33.763+0000</td></tr><tr><td>579</td><td>Maximus UC-44</td><td>Urban</td><td>21</td><td>2024-10-01T17:17:33.763+0000</td></tr><tr><td>438</td><td>Maximus UM-43</td><td>Urban</td><td>22</td><td>2024-10-01T17:17:33.763+0000</td></tr><tr><td>685</td><td>Maximus UC-50</td><td>Urban</td><td>23</td><td>2024-10-01T17:17:33.763+0000</td></tr><tr><td>443</td><td>Maximus UM-48</td><td>Urban</td><td>24</td><td>2024-10-01T17:17:33.763+0000</td></tr><tr><td>636</td><td>Maximus UC-01</td><td>Urban</td><td>25</td><td>2024-10-01T17:17:33.763+0000</td></tr><tr><td>416</td><td>Maximus UM-21</td><td>Urban</td><td>26</td><td>2024-10-01T17:17:33.763+0000</td></tr><tr><td>431</td><td>Maximus UM-36</td><td>Urban</td><td>27</td><td>2024-10-01T17:17:33.763+0000</td></tr><tr><td>424</td><td>Maximus UM-29</td><td>Urban</td><td>28</td><td>2024-10-01T17:17:33.763+0000</td></tr><tr><td>559</td><td>Maximus UC-24</td><td>Mix</td><td>29</td><td>2024-10-01T17:17:33.763+0000</td></tr><tr><td>457</td><td>Maximus UM-62</td><td>Urban</td><td>30</td><td>2024-10-01T17:17:33.763+0000</td></tr><tr><td>541</td><td>Maximus UC-06</td><td>Mix</td><td>31</td><td>2024-10-01T17:17:33.763+0000</td></tr><tr><td>491</td><td>Maximus UM-96</td><td>Urban</td><td>32</td><td>2024-10-01T17:17:33.763+0000</td></tr><tr><td>470</td><td>Maximus UM-75</td><td>Urban</td><td>33</td><td>2024-10-01T17:17:33.763+0000</td></tr><tr><td>599</td><td>Maximus UC-64</td><td>Urban</td><td>34</td><td>2024-10-01T17:17:33.763+0000</td></tr><tr><td>649</td><td>Maximus UC-14</td><td>Urban</td><td>35</td><td>2024-10-01T17:17:33.763+0000</td></tr><tr><td>548</td><td>Maximus UC-13</td><td>Mix</td><td>36</td><td>2024-10-01T17:17:33.763+0000</td></tr><tr><td>656</td><td>Maximus UC-21</td><td>Urban</td><td>37</td><td>2024-10-01T17:17:33.763+0000</td></tr><tr><td>605</td><td>Maximus UC-70</td><td>Urban</td><td>38</td><td>2024-10-01T17:17:33.763+0000</td></tr><tr><td>674</td><td>Maximus UC-39</td><td>Urban</td><td>39</td><td>2024-10-01T17:17:33.763+0000</td></tr><tr><td>580</td><td>Maximus UC-45</td><td>Urban</td><td>40</td><td>2024-10-01T17:17:33.763+0000</td></tr><tr><td>670</td><td>Maximus UC-35</td><td>Urban</td><td>41</td><td>2024-10-01T17:17:33.763+0000</td></tr><tr><td>447</td><td>Maximus UM-52</td><td>Urban</td><td>42</td><td>2024-10-01T17:17:33.763+0000</td></tr><tr><td>567</td><td>Maximus UC-32</td><td>Youth</td><td>43</td><td>2024-10-01T17:17:33.763+0000</td></tr><tr><td>604</td><td>Maximus UC-69</td><td>Urban</td><td>44</td><td>2024-10-01T17:17:33.763+0000</td></tr><tr><td>492</td><td>Maximus UM-97</td><td>Urban</td><td>45</td><td>2024-10-01T17:17:33.763+0000</td></tr><tr><td>478</td><td>Maximus UM-83</td><td>Urban</td><td>46</td><td>2024-10-01T17:17:33.763+0000</td></tr><tr><td>545</td><td>Maximus UC-10</td><td>Mix</td><td>47</td><td>2024-10-01T17:17:33.763+0000</td></tr><tr><td>640</td><td>Maximus UC-05</td><td>Urban</td><td>48</td><td>2024-10-01T17:17:33.763+0000</td></tr><tr><td>535</td><td>Maximus UE-23</td><td>Urban</td><td>49</td><td>2024-10-01T17:17:33.763+0000</td></tr><tr><td>596</td><td>Maximus UC-61</td><td>Urban</td><td>50</td><td>2024-10-01T17:17:33.763+0000</td></tr><tr><td>627</td><td>Maximus UC-92</td><td>Urban</td><td>51</td><td>2024-10-01T17:17:33.763+0000</td></tr><tr><td>451</td><td>Maximus UM-56</td><td>Urban</td><td>52</td><td>2024-10-01T17:17:33.763+0000</td></tr><tr><td>589</td><td>Maximus UC-54</td><td>Urban</td><td>53</td><td>2024-10-01T17:17:33.763+0000</td></tr><tr><td>563</td><td>Maximus UC-28</td><td>Youth</td><td>54</td><td>2024-10-01T17:17:33.763+0000</td></tr><tr><td>523</td><td>Maximus UE-11</td><td>Urban</td><td>55</td><td>2024-10-01T17:17:33.763+0000</td></tr><tr><td>516</td><td>Maximus UE-04</td><td>Urban</td><td>56</td><td>2024-10-01T17:17:33.763+0000</td></tr><tr><td>506</td><td>Maximus UM-11</td><td>Urban</td><td>57</td><td>2024-10-01T17:17:33.763+0000</td></tr><tr><td>667</td><td>Maximus UC-32</td><td>Urban</td><td>58</td><td>2024-10-01T17:17:33.763+0000</td></tr><tr><td>460</td><td>Maximus UM-65</td><td>Urban</td><td>59</td><td>2024-10-01T17:17:33.763+0000</td></tr><tr><td>449</td><td>Maximus UM-54</td><td>Urban</td><td>60</td><td>2024-10-01T17:17:33.763+0000</td></tr><tr><td>531</td><td>Maximus UE-19</td><td>Urban</td><td>61</td><td>2024-10-01T17:17:33.763+0000</td></tr><tr><td>650</td><td>Maximus UC-15</td><td>Urban</td><td>62</td><td>2024-10-01T17:17:33.763+0000</td></tr><tr><td>426</td><td>Maximus UM-31</td><td>Urban</td><td>63</td><td>2024-10-01T17:17:33.763+0000</td></tr><tr><td>556</td><td>Maximus UC-21</td><td>Mix</td><td>64</td><td>2024-10-01T17:17:33.763+0000</td></tr><tr><td>590</td><td>Maximus UC-55</td><td>Urban</td><td>65</td><td>2024-10-01T17:17:33.763+0000</td></tr><tr><td>672</td><td>Maximus UC-37</td><td>Urban</td><td>66</td><td>2024-10-01T17:17:33.763+0000</td></tr><tr><td>430</td><td>Maximus UM-35</td><td>Urban</td><td>67</td><td>2024-10-01T17:17:33.763+0000</td></tr><tr><td>659</td><td>Maximus UC-24</td><td>Urban</td><td>68</td><td>2024-10-01T17:17:33.763+0000</td></tr><tr><td>666</td><td>Maximus UC-31</td><td>Urban</td><td>69</td><td>2024-10-01T17:17:33.763+0000</td></tr><tr><td>633</td><td>Maximus UC-98</td><td>Urban</td><td>70</td><td>2024-10-01T17:17:33.763+0000</td></tr><tr><td>593</td><td>Maximus UC-58</td><td>Urban</td><td>71</td><td>2024-10-01T17:17:33.763+0000</td></tr><tr><td>445</td><td>Maximus UM-50</td><td>Urban</td><td>72</td><td>2024-10-01T17:17:33.763+0000</td></tr><tr><td>433</td><td>Maximus UM-38</td><td>Urban</td><td>73</td><td>2024-10-01T17:17:33.763+0000</td></tr><tr><td>676</td><td>Maximus UC-41</td><td>Urban</td><td>74</td><td>2024-10-01T17:17:33.763+0000</td></tr><tr><td>554</td><td>Maximus UC-19</td><td>Mix</td><td>75</td><td>2024-10-01T17:17:33.763+0000</td></tr><tr><td>549</td><td>Maximus UC-14</td><td>Mix</td><td>76</td><td>2024-10-01T17:17:33.763+0000</td></tr><tr><td>440</td><td>Maximus UM-45</td><td>Urban</td><td>77</td><td>2024-10-01T17:17:33.763+0000</td></tr><tr><td>615</td><td>Maximus UC-80</td><td>Urban</td><td>78</td><td>2024-10-01T17:17:33.763+0000</td></tr><tr><td>588</td><td>Maximus UC-53</td><td>Urban</td><td>79</td><td>2024-10-01T17:17:33.763+0000</td></tr><tr><td>429</td><td>Maximus UM-34</td><td>Urban</td><td>80</td><td>2024-10-01T17:17:33.763+0000</td></tr><tr><td>412</td><td>Maximus UM-17</td><td>Urban</td><td>81</td><td>2024-10-01T17:17:33.763+0000</td></tr><tr><td>487</td><td>Maximus UM-92</td><td>Urban</td><td>82</td><td>2024-10-01T17:17:33.763+0000</td></tr><tr><td>499</td><td>Maximus UM-04</td><td>Urban</td><td>83</td><td>2024-10-01T17:17:33.763+0000</td></tr><tr><td>456</td><td>Maximus UM-61</td><td>Urban</td><td>84</td><td>2024-10-01T17:17:33.763+0000</td></tr><tr><td>496</td><td>Maximus UM-01</td><td>Urban</td><td>85</td><td>2024-10-01T17:17:33.763+0000</td></tr><tr><td>489</td><td>Maximus UM-94</td><td>Urban</td><td>86</td><td>2024-10-01T17:17:33.763+0000</td></tr><tr><td>461</td><td>Maximus UM-66</td><td>Urban</td><td>87</td><td>2024-10-01T17:17:33.763+0000</td></tr><tr><td>517</td><td>Maximus UE-05</td><td>Urban</td><td>88</td><td>2024-10-01T17:17:33.763+0000</td></tr><tr><td>476</td><td>Maximus UM-81</td><td>Urban</td><td>89</td><td>2024-10-01T17:17:33.763+0000</td></tr><tr><td>428</td><td>Maximus UM-33</td><td>Urban</td><td>90</td><td>2024-10-01T17:17:33.763+0000</td></tr><tr><td>494</td><td>Maximus UM-99</td><td>Urban</td><td>91</td><td>2024-10-01T17:17:33.763+0000</td></tr><tr><td>527</td><td>Maximus UE-15</td><td>Urban</td><td>92</td><td>2024-10-01T17:17:33.763+0000</td></tr><tr><td>532</td><td>Maximus UE-20</td><td>Urban</td><td>93</td><td>2024-10-01T17:17:33.763+0000</td></tr><tr><td>629</td><td>Maximus UC-94</td><td>Urban</td><td>94</td><td>2024-10-01T17:17:33.763+0000</td></tr><tr><td>481</td><td>Maximus UM-86</td><td>Urban</td><td>95</td><td>2024-10-01T17:17:33.763+0000</td></tr><tr><td>450</td><td>Maximus UM-55</td><td>Urban</td><td>96</td><td>2024-10-01T17:17:33.763+0000</td></tr><tr><td>475</td><td>Maximus UM-80</td><td>Urban</td><td>97</td><td>2024-10-01T17:17:33.763+0000</td></tr><tr><td>524</td><td>Maximus UE-12</td><td>Urban</td><td>98</td><td>2024-10-01T17:17:33.763+0000</td></tr><tr><td>602</td><td>Maximus UC-67</td><td>Urban</td><td>99</td><td>2024-10-01T17:17:33.763+0000</td></tr><tr><td>466</td><td>Maximus UM-71</td><td>Urban</td><td>100</td><td>2024-10-01T17:17:33.763+0000</td></tr><tr><td>410</td><td>Maximus UM-15</td><td>Urban</td><td>101</td><td>2024-10-01T17:17:33.763+0000</td></tr><tr><td>417</td><td>Maximus UM-22</td><td>Urban</td><td>102</td><td>2024-10-01T17:17:33.763+0000</td></tr><tr><td>544</td><td>Maximus UC-09</td><td>Mix</td><td>103</td><td>2024-10-01T17:17:33.763+0000</td></tr><tr><td>689</td><td>Maximus UC-54</td><td>Urban</td><td>104</td><td>2024-10-01T17:17:33.763+0000</td></tr><tr><td>419</td><td>Maximus UM-24</td><td>Urban</td><td>105</td><td>2024-10-01T17:17:33.763+0000</td></tr><tr><td>427</td><td>Maximus UM-32</td><td>Urban</td><td>106</td><td>2024-10-01T17:17:33.763+0000</td></tr><tr><td>405</td><td>Maximus UM-10</td><td>Accessory</td><td>107</td><td>2024-10-01T17:17:33.763+0000</td></tr><tr><td>498</td><td>Maximus UM-03</td><td>Urban</td><td>108</td><td>2024-10-01T17:17:33.763+0000</td></tr><tr><td>406</td><td>Maximus UM-11</td><td>Accessory</td><td>109</td><td>2024-10-01T17:17:33.763+0000</td></tr><tr><td>394</td><td>Maximus RS-01</td><td>Rural</td><td>110</td><td>2024-10-01T17:17:33.763+0000</td></tr><tr><td>568</td><td>Maximus UC-33</td><td>Youth</td><td>111</td><td>2024-10-01T17:17:33.763+0000</td></tr><tr><td>407</td><td>Maximus UM-12</td><td>Accessory</td><td>112</td><td>2024-10-01T17:17:33.763+0000</td></tr><tr><td>396</td><td>Maximus UM-01</td><td>Accessory</td><td>113</td><td>2024-10-01T17:17:33.763+0000</td></tr><tr><td>400</td><td>Maximus UM-05</td><td>Accessory</td><td>114</td><td>2024-10-01T17:17:33.763+0000</td></tr><tr><td>576</td><td>Maximus UC-41</td><td>Youth</td><td>115</td><td>2024-10-01T17:17:33.763+0000</td></tr><tr><td>510</td><td>Maximus UM-15</td><td>Urban</td><td>116</td><td>2024-10-01T17:17:33.763+0000</td></tr><tr><td>402</td><td>Maximus UM-07</td><td>Accessory</td><td>117</td><td>2024-10-01T17:17:33.763+0000</td></tr><tr><td>403</td><td>Maximus UM-08</td><td>Accessory</td><td>118</td><td>2024-10-01T17:17:33.763+0000</td></tr></tbody></table></div>"
      ]
     },
     "metadata": {
      "application/vnd.databricks.v1+output": {
       "addedWidgets": {},
       "aggData": [],
       "aggError": "",
       "aggOverflow": false,
       "aggSchema": [],
       "aggSeriesLimitReached": false,
       "aggType": "",
       "arguments": {},
       "columnCustomDisplayInfos": {},
       "data": [
        [
         585,
         "Maximus UC-50",
         "Urban",
         1,
         "2024-10-01T17:17:33.763+0000"
        ],
        [
         555,
         "Maximus UC-20",
         "Mix",
         2,
         "2024-10-01T17:17:33.763+0000"
        ],
        [
         423,
         "Maximus UM-28",
         "Urban",
         3,
         "2024-10-01T17:17:33.763+0000"
        ],
        [
         681,
         "Maximus UC-46",
         "Urban",
         4,
         "2024-10-01T17:17:33.763+0000"
        ],
        [
         628,
         "Maximus UC-93",
         "Urban",
         5,
         "2024-10-01T17:17:33.763+0000"
        ],
        [
         415,
         "Maximus UM-20",
         "Urban",
         6,
         "2024-10-01T17:17:33.763+0000"
        ],
        [
         547,
         "Maximus UC-12",
         "Mix",
         7,
         "2024-10-01T17:17:33.763+0000"
        ],
        [
         653,
         "Maximus UC-18",
         "Urban",
         8,
         "2024-10-01T17:17:33.763+0000"
        ],
        [
         512,
         "Maximus UR-01",
         "Urban",
         9,
         "2024-10-01T17:17:33.763+0000"
        ],
        [
         520,
         "Maximus UE-08",
         "Urban",
         10,
         "2024-10-01T17:17:33.763+0000"
        ],
        [
         609,
         "Maximus UC-74",
         "Urban",
         11,
         "2024-10-01T17:17:33.763+0000"
        ],
        [
         471,
         "Maximus UM-76",
         "Urban",
         12,
         "2024-10-01T17:17:33.763+0000"
        ],
        [
         686,
         "Maximus UC-51",
         "Urban",
         13,
         "2024-10-01T17:17:33.763+0000"
        ],
        [
         528,
         "Maximus UE-16",
         "Urban",
         14,
         "2024-10-01T17:17:33.763+0000"
        ],
        [
         501,
         "Maximus UM-06",
         "Urban",
         15,
         "2024-10-01T17:17:33.763+0000"
        ],
        [
         577,
         "Maximus UC-42",
         "Urban",
         16,
         "2024-10-01T17:17:33.763+0000"
        ],
        [
         538,
         "Maximus UC-03",
         "Mix",
         17,
         "2024-10-01T17:17:33.763+0000"
        ],
        [
         578,
         "Maximus UC-43",
         "Urban",
         18,
         "2024-10-01T17:17:33.763+0000"
        ],
        [
         690,
         "Maximus UC-55",
         "Urban",
         19,
         "2024-10-01T17:17:33.763+0000"
        ],
        [
         515,
         "Maximus UE-03",
         "Urban",
         20,
         "2024-10-01T17:17:33.763+0000"
        ],
        [
         579,
         "Maximus UC-44",
         "Urban",
         21,
         "2024-10-01T17:17:33.763+0000"
        ],
        [
         438,
         "Maximus UM-43",
         "Urban",
         22,
         "2024-10-01T17:17:33.763+0000"
        ],
        [
         685,
         "Maximus UC-50",
         "Urban",
         23,
         "2024-10-01T17:17:33.763+0000"
        ],
        [
         443,
         "Maximus UM-48",
         "Urban",
         24,
         "2024-10-01T17:17:33.763+0000"
        ],
        [
         636,
         "Maximus UC-01",
         "Urban",
         25,
         "2024-10-01T17:17:33.763+0000"
        ],
        [
         416,
         "Maximus UM-21",
         "Urban",
         26,
         "2024-10-01T17:17:33.763+0000"
        ],
        [
         431,
         "Maximus UM-36",
         "Urban",
         27,
         "2024-10-01T17:17:33.763+0000"
        ],
        [
         424,
         "Maximus UM-29",
         "Urban",
         28,
         "2024-10-01T17:17:33.763+0000"
        ],
        [
         559,
         "Maximus UC-24",
         "Mix",
         29,
         "2024-10-01T17:17:33.763+0000"
        ],
        [
         457,
         "Maximus UM-62",
         "Urban",
         30,
         "2024-10-01T17:17:33.763+0000"
        ],
        [
         541,
         "Maximus UC-06",
         "Mix",
         31,
         "2024-10-01T17:17:33.763+0000"
        ],
        [
         491,
         "Maximus UM-96",
         "Urban",
         32,
         "2024-10-01T17:17:33.763+0000"
        ],
        [
         470,
         "Maximus UM-75",
         "Urban",
         33,
         "2024-10-01T17:17:33.763+0000"
        ],
        [
         599,
         "Maximus UC-64",
         "Urban",
         34,
         "2024-10-01T17:17:33.763+0000"
        ],
        [
         649,
         "Maximus UC-14",
         "Urban",
         35,
         "2024-10-01T17:17:33.763+0000"
        ],
        [
         548,
         "Maximus UC-13",
         "Mix",
         36,
         "2024-10-01T17:17:33.763+0000"
        ],
        [
         656,
         "Maximus UC-21",
         "Urban",
         37,
         "2024-10-01T17:17:33.763+0000"
        ],
        [
         605,
         "Maximus UC-70",
         "Urban",
         38,
         "2024-10-01T17:17:33.763+0000"
        ],
        [
         674,
         "Maximus UC-39",
         "Urban",
         39,
         "2024-10-01T17:17:33.763+0000"
        ],
        [
         580,
         "Maximus UC-45",
         "Urban",
         40,
         "2024-10-01T17:17:33.763+0000"
        ],
        [
         670,
         "Maximus UC-35",
         "Urban",
         41,
         "2024-10-01T17:17:33.763+0000"
        ],
        [
         447,
         "Maximus UM-52",
         "Urban",
         42,
         "2024-10-01T17:17:33.763+0000"
        ],
        [
         567,
         "Maximus UC-32",
         "Youth",
         43,
         "2024-10-01T17:17:33.763+0000"
        ],
        [
         604,
         "Maximus UC-69",
         "Urban",
         44,
         "2024-10-01T17:17:33.763+0000"
        ],
        [
         492,
         "Maximus UM-97",
         "Urban",
         45,
         "2024-10-01T17:17:33.763+0000"
        ],
        [
         478,
         "Maximus UM-83",
         "Urban",
         46,
         "2024-10-01T17:17:33.763+0000"
        ],
        [
         545,
         "Maximus UC-10",
         "Mix",
         47,
         "2024-10-01T17:17:33.763+0000"
        ],
        [
         640,
         "Maximus UC-05",
         "Urban",
         48,
         "2024-10-01T17:17:33.763+0000"
        ],
        [
         535,
         "Maximus UE-23",
         "Urban",
         49,
         "2024-10-01T17:17:33.763+0000"
        ],
        [
         596,
         "Maximus UC-61",
         "Urban",
         50,
         "2024-10-01T17:17:33.763+0000"
        ],
        [
         627,
         "Maximus UC-92",
         "Urban",
         51,
         "2024-10-01T17:17:33.763+0000"
        ],
        [
         451,
         "Maximus UM-56",
         "Urban",
         52,
         "2024-10-01T17:17:33.763+0000"
        ],
        [
         589,
         "Maximus UC-54",
         "Urban",
         53,
         "2024-10-01T17:17:33.763+0000"
        ],
        [
         563,
         "Maximus UC-28",
         "Youth",
         54,
         "2024-10-01T17:17:33.763+0000"
        ],
        [
         523,
         "Maximus UE-11",
         "Urban",
         55,
         "2024-10-01T17:17:33.763+0000"
        ],
        [
         516,
         "Maximus UE-04",
         "Urban",
         56,
         "2024-10-01T17:17:33.763+0000"
        ],
        [
         506,
         "Maximus UM-11",
         "Urban",
         57,
         "2024-10-01T17:17:33.763+0000"
        ],
        [
         667,
         "Maximus UC-32",
         "Urban",
         58,
         "2024-10-01T17:17:33.763+0000"
        ],
        [
         460,
         "Maximus UM-65",
         "Urban",
         59,
         "2024-10-01T17:17:33.763+0000"
        ],
        [
         449,
         "Maximus UM-54",
         "Urban",
         60,
         "2024-10-01T17:17:33.763+0000"
        ],
        [
         531,
         "Maximus UE-19",
         "Urban",
         61,
         "2024-10-01T17:17:33.763+0000"
        ],
        [
         650,
         "Maximus UC-15",
         "Urban",
         62,
         "2024-10-01T17:17:33.763+0000"
        ],
        [
         426,
         "Maximus UM-31",
         "Urban",
         63,
         "2024-10-01T17:17:33.763+0000"
        ],
        [
         556,
         "Maximus UC-21",
         "Mix",
         64,
         "2024-10-01T17:17:33.763+0000"
        ],
        [
         590,
         "Maximus UC-55",
         "Urban",
         65,
         "2024-10-01T17:17:33.763+0000"
        ],
        [
         672,
         "Maximus UC-37",
         "Urban",
         66,
         "2024-10-01T17:17:33.763+0000"
        ],
        [
         430,
         "Maximus UM-35",
         "Urban",
         67,
         "2024-10-01T17:17:33.763+0000"
        ],
        [
         659,
         "Maximus UC-24",
         "Urban",
         68,
         "2024-10-01T17:17:33.763+0000"
        ],
        [
         666,
         "Maximus UC-31",
         "Urban",
         69,
         "2024-10-01T17:17:33.763+0000"
        ],
        [
         633,
         "Maximus UC-98",
         "Urban",
         70,
         "2024-10-01T17:17:33.763+0000"
        ],
        [
         593,
         "Maximus UC-58",
         "Urban",
         71,
         "2024-10-01T17:17:33.763+0000"
        ],
        [
         445,
         "Maximus UM-50",
         "Urban",
         72,
         "2024-10-01T17:17:33.763+0000"
        ],
        [
         433,
         "Maximus UM-38",
         "Urban",
         73,
         "2024-10-01T17:17:33.763+0000"
        ],
        [
         676,
         "Maximus UC-41",
         "Urban",
         74,
         "2024-10-01T17:17:33.763+0000"
        ],
        [
         554,
         "Maximus UC-19",
         "Mix",
         75,
         "2024-10-01T17:17:33.763+0000"
        ],
        [
         549,
         "Maximus UC-14",
         "Mix",
         76,
         "2024-10-01T17:17:33.763+0000"
        ],
        [
         440,
         "Maximus UM-45",
         "Urban",
         77,
         "2024-10-01T17:17:33.763+0000"
        ],
        [
         615,
         "Maximus UC-80",
         "Urban",
         78,
         "2024-10-01T17:17:33.763+0000"
        ],
        [
         588,
         "Maximus UC-53",
         "Urban",
         79,
         "2024-10-01T17:17:33.763+0000"
        ],
        [
         429,
         "Maximus UM-34",
         "Urban",
         80,
         "2024-10-01T17:17:33.763+0000"
        ],
        [
         412,
         "Maximus UM-17",
         "Urban",
         81,
         "2024-10-01T17:17:33.763+0000"
        ],
        [
         487,
         "Maximus UM-92",
         "Urban",
         82,
         "2024-10-01T17:17:33.763+0000"
        ],
        [
         499,
         "Maximus UM-04",
         "Urban",
         83,
         "2024-10-01T17:17:33.763+0000"
        ],
        [
         456,
         "Maximus UM-61",
         "Urban",
         84,
         "2024-10-01T17:17:33.763+0000"
        ],
        [
         496,
         "Maximus UM-01",
         "Urban",
         85,
         "2024-10-01T17:17:33.763+0000"
        ],
        [
         489,
         "Maximus UM-94",
         "Urban",
         86,
         "2024-10-01T17:17:33.763+0000"
        ],
        [
         461,
         "Maximus UM-66",
         "Urban",
         87,
         "2024-10-01T17:17:33.763+0000"
        ],
        [
         517,
         "Maximus UE-05",
         "Urban",
         88,
         "2024-10-01T17:17:33.763+0000"
        ],
        [
         476,
         "Maximus UM-81",
         "Urban",
         89,
         "2024-10-01T17:17:33.763+0000"
        ],
        [
         428,
         "Maximus UM-33",
         "Urban",
         90,
         "2024-10-01T17:17:33.763+0000"
        ],
        [
         494,
         "Maximus UM-99",
         "Urban",
         91,
         "2024-10-01T17:17:33.763+0000"
        ],
        [
         527,
         "Maximus UE-15",
         "Urban",
         92,
         "2024-10-01T17:17:33.763+0000"
        ],
        [
         532,
         "Maximus UE-20",
         "Urban",
         93,
         "2024-10-01T17:17:33.763+0000"
        ],
        [
         629,
         "Maximus UC-94",
         "Urban",
         94,
         "2024-10-01T17:17:33.763+0000"
        ],
        [
         481,
         "Maximus UM-86",
         "Urban",
         95,
         "2024-10-01T17:17:33.763+0000"
        ],
        [
         450,
         "Maximus UM-55",
         "Urban",
         96,
         "2024-10-01T17:17:33.763+0000"
        ],
        [
         475,
         "Maximus UM-80",
         "Urban",
         97,
         "2024-10-01T17:17:33.763+0000"
        ],
        [
         524,
         "Maximus UE-12",
         "Urban",
         98,
         "2024-10-01T17:17:33.763+0000"
        ],
        [
         602,
         "Maximus UC-67",
         "Urban",
         99,
         "2024-10-01T17:17:33.763+0000"
        ],
        [
         466,
         "Maximus UM-71",
         "Urban",
         100,
         "2024-10-01T17:17:33.763+0000"
        ],
        [
         410,
         "Maximus UM-15",
         "Urban",
         101,
         "2024-10-01T17:17:33.763+0000"
        ],
        [
         417,
         "Maximus UM-22",
         "Urban",
         102,
         "2024-10-01T17:17:33.763+0000"
        ],
        [
         544,
         "Maximus UC-09",
         "Mix",
         103,
         "2024-10-01T17:17:33.763+0000"
        ],
        [
         689,
         "Maximus UC-54",
         "Urban",
         104,
         "2024-10-01T17:17:33.763+0000"
        ],
        [
         419,
         "Maximus UM-24",
         "Urban",
         105,
         "2024-10-01T17:17:33.763+0000"
        ],
        [
         427,
         "Maximus UM-32",
         "Urban",
         106,
         "2024-10-01T17:17:33.763+0000"
        ],
        [
         405,
         "Maximus UM-10",
         "Accessory",
         107,
         "2024-10-01T17:17:33.763+0000"
        ],
        [
         498,
         "Maximus UM-03",
         "Urban",
         108,
         "2024-10-01T17:17:33.763+0000"
        ],
        [
         406,
         "Maximus UM-11",
         "Accessory",
         109,
         "2024-10-01T17:17:33.763+0000"
        ],
        [
         394,
         "Maximus RS-01",
         "Rural",
         110,
         "2024-10-01T17:17:33.763+0000"
        ],
        [
         568,
         "Maximus UC-33",
         "Youth",
         111,
         "2024-10-01T17:17:33.763+0000"
        ],
        [
         407,
         "Maximus UM-12",
         "Accessory",
         112,
         "2024-10-01T17:17:33.763+0000"
        ],
        [
         396,
         "Maximus UM-01",
         "Accessory",
         113,
         "2024-10-01T17:17:33.763+0000"
        ],
        [
         400,
         "Maximus UM-05",
         "Accessory",
         114,
         "2024-10-01T17:17:33.763+0000"
        ],
        [
         576,
         "Maximus UC-41",
         "Youth",
         115,
         "2024-10-01T17:17:33.763+0000"
        ],
        [
         510,
         "Maximus UM-15",
         "Urban",
         116,
         "2024-10-01T17:17:33.763+0000"
        ],
        [
         402,
         "Maximus UM-07",
         "Accessory",
         117,
         "2024-10-01T17:17:33.763+0000"
        ],
        [
         403,
         "Maximus UM-08",
         "Accessory",
         118,
         "2024-10-01T17:17:33.763+0000"
        ]
       ],
       "datasetInfos": [],
       "dbfsResultPath": null,
       "isJsonSchema": true,
       "metadata": {},
       "overflow": false,
       "plotOptions": {
        "customPlotOptions": {},
        "displayType": "table",
        "pivotAggregation": null,
        "pivotColumns": null,
        "xColumns": null,
        "yColumns": null
       },
       "removedWidgets": [],
       "schema": [
        {
         "metadata": "{}",
         "name": "IDProduto",
         "type": "\"integer\""
        },
        {
         "metadata": "{}",
         "name": "Produto",
         "type": "\"string\""
        },
        {
         "metadata": "{}",
         "name": "Categoria",
         "type": "\"string\""
        },
        {
         "metadata": "{}",
         "name": "sk_produto",
         "type": "\"long\""
        },
        {
         "metadata": "{}",
         "name": "data_atualizacao",
         "type": "\"timestamp\""
        }
       ],
       "type": "table"
      }
     },
     "output_type": "display_data"
    }
   ],
   "source": [
    "from pyspark.sql.functions import monotonically_increasing_id, current_timestamp\n",
    "#Nome tabela destino\n",
    "\n",
    "tb_destino = \"dim_produto\"\n",
    "\n",
    "# Extrair produtos únicos para a dimensão Produto\n",
    "dim_produto_df = df_silver.select(\n",
    "    \"IDProduto\", \"Produto\", \"Categoria\").dropDuplicates()\n",
    "\n",
    "# Adicionar chave substituta (surrogate keys)\n",
    "dim_produto_df = dim_produto_df.withColumn(\"sk_produto\", monotonically_increasing_id()+1) \\\n",
    "                               .withColumn(\"data_atualizacao\", current_timestamp())\n",
    "\n",
    "\n",
    "# Escrever DimProduto no formato Delta\n",
    "dim_produto_df.write.format(\"delta\").mode(\"overwrite\").option(\"mergeSchema\", \"true\").save(f\"{gold_path}/{tb_destino}\")\n",
    "display(dim_produto_df)"
   ]
  },
  {
   "cell_type": "markdown",
   "metadata": {
    "application/vnd.databricks.v1+cell": {
     "cellMetadata": {},
     "inputWidgets": {},
     "nuid": "bba96d39-f6e9-4971-8b77-3c9475761626",
     "showTitle": false,
     "title": ""
    }
   },
   "source": [
    "### Criação da Dimensão Categoria"
   ]
  },
  {
   "cell_type": "code",
   "execution_count": 0,
   "metadata": {
    "application/vnd.databricks.v1+cell": {
     "cellMetadata": {
      "byteLimit": 2048000,
      "rowLimit": 10000
     },
     "inputWidgets": {},
     "nuid": "76509140-b502-48ba-9f5e-24844a45ea34",
     "showTitle": false,
     "title": ""
    }
   },
   "outputs": [],
   "source": [
    "from pyspark.sql.functions import monotonically_increasing_id\n",
    "#Nome tabela destino\n",
    "\n",
    "tb_destino = \"dim_categoria\"\n",
    "\n",
    "# Extrair Categorias únicas para a dimensão Categoria\n",
    "dim_categoria_df = df_silver.select(\n",
    "    \"Categoria\").dropDuplicates()\n",
    "\n",
    "# Adicionar chave substituta (surrogate keys)\n",
    "dim_categoria_df = dim_categoria_df.withColumn(\"sk_categoria\", monotonically_increasing_id()+1)\\\n",
    "                                   .withColumn(\"data_atualizacao\", current_timestamp())\n",
    "\n",
    "# Escrever DimCatgoria no formato Parquet, particionando por Categoria\n",
    "dim_categoria_df.write.format(\"delta\").mode(\"overwrite\").option(\"mergeSchema\", \"true\").save(f\"{gold_path}/{tb_destino}\")"
   ]
  },
  {
   "cell_type": "markdown",
   "metadata": {
    "application/vnd.databricks.v1+cell": {
     "cellMetadata": {},
     "inputWidgets": {},
     "nuid": "1842462d-3602-45ab-889b-55c8e53d24c1",
     "showTitle": false,
     "title": ""
    }
   },
   "source": [
    "### Criação da Dimensão Segmento"
   ]
  },
  {
   "cell_type": "code",
   "execution_count": 0,
   "metadata": {
    "application/vnd.databricks.v1+cell": {
     "cellMetadata": {
      "byteLimit": 2048000,
      "rowLimit": 10000
     },
     "inputWidgets": {},
     "nuid": "5140696a-4139-4159-8a3a-055d38ece6b3",
     "showTitle": false,
     "title": ""
    }
   },
   "outputs": [],
   "source": [
    "#Nome tabela destino\n",
    "\n",
    "tb_destino = \"dim_segmento\"\n",
    "\n",
    "# Extrair Segmentos únicos para a dimensão Segmentos\n",
    "dim_segmento_df = df_silver.select(\n",
    "   \"Segmento\").dropDuplicates()\n",
    "\n",
    "# Adicionar chave substituta (surrogate keys)\n",
    "dim_segmento_df = dim_segmento_df.withColumn(\"sk_segmento\", monotonically_increasing_id()+1) \\\n",
    "                                 .withColumn(\"data_atualizacao\", current_timestamp())\n",
    "\n",
    "\n",
    "# Escrever DimSegmento no formato Parquet\n",
    "dim_segmento_df.write.format(\"delta\").mode(\"overwrite\").option(\"mergeSchema\", \"true\").save(f\"{gold_path}/{tb_destino}\")"
   ]
  },
  {
   "cell_type": "markdown",
   "metadata": {
    "application/vnd.databricks.v1+cell": {
     "cellMetadata": {},
     "inputWidgets": {},
     "nuid": "df8cf69d-e3fa-45f9-a2da-c9c07258e526",
     "showTitle": false,
     "title": ""
    }
   },
   "source": [
    "### Criação da Dimensão Fabricante"
   ]
  },
  {
   "cell_type": "code",
   "execution_count": 0,
   "metadata": {
    "application/vnd.databricks.v1+cell": {
     "cellMetadata": {
      "byteLimit": 2048000,
      "rowLimit": 10000
     },
     "inputWidgets": {},
     "nuid": "ebd8ae90-4dba-4cd1-a7e2-8ba19cd49657",
     "showTitle": false,
     "title": ""
    }
   },
   "outputs": [],
   "source": [
    "#Nome tabela destino\n",
    "tb_destino = \"dim_fabricante\"\n",
    "\n",
    "# Extrair produtos únicos para a dimensão Fabricante    \n",
    "dim_fabricante_df = df_silver.select(\n",
    "    \"IDFabricante\", \"Fabricante\").dropDuplicates()\n",
    "\n",
    "# Adicionar chave substituta (surrogate keys)\n",
    "dim_fabricante_df = dim_fabricante_df.withColumn(\"sk_fabricante\", monotonically_increasing_id()+1)\\\n",
    "                                      .withColumn(\"data_atualizacao\", current_timestamp())\n",
    "\n",
    "\n",
    "# Escrever DimFabricante no formato Delta\n",
    "dim_fabricante_df.write.format(\"delta\").mode(\"overwrite\").option(\"mergeSchema\", \"true\").save(f\"{gold_path}/{tb_destino}\")"
   ]
  },
  {
   "cell_type": "markdown",
   "metadata": {
    "application/vnd.databricks.v1+cell": {
     "cellMetadata": {},
     "inputWidgets": {},
     "nuid": "dd5c9c48-3c05-4cfa-b858-0d98b843a440",
     "showTitle": false,
     "title": ""
    }
   },
   "source": [
    "### Criação da Dimensão Geografia"
   ]
  },
  {
   "cell_type": "code",
   "execution_count": 0,
   "metadata": {
    "application/vnd.databricks.v1+cell": {
     "cellMetadata": {
      "byteLimit": 2048000,
      "rowLimit": 10000
     },
     "inputWidgets": {},
     "nuid": "d9cb6c3f-6543-441f-a304-c86ffb60ef5f",
     "showTitle": false,
     "title": ""
    }
   },
   "outputs": [],
   "source": [
    "#Nome tabela destino\n",
    "tb_destino = \"dim_geografia\"\n",
    "\n",
    "# Extrair Geografia  únicos para a dimensão Geografia\n",
    "dim_geografia_df = df_silver.select(\n",
    "     \"Cidade\", \"Estado\", \"Regiao\", \"Distrito\", \"Pais\", \"CodigoPostal\"\n",
    ").dropDuplicates()\n",
    "\n",
    "# Adicionar chave substituta\n",
    "dim_geografia_df = dim_geografia_df.withColumn(\"sk_geografia\", monotonically_increasing_id()+1) \\\n",
    "                                   .withColumn(\"data_atualizacao\", current_timestamp())\n",
    "\n",
    "\n",
    "# Escrever DimGeografia no formato Parquet\n",
    "dim_geografia_df.write.format(\"delta\").mode(\"overwrite\").option(\"mergeSchema\", \"true\").save(f\"{gold_path}/{tb_destino}\")\n"
   ]
  },
  {
   "cell_type": "markdown",
   "metadata": {
    "application/vnd.databricks.v1+cell": {
     "cellMetadata": {},
     "inputWidgets": {},
     "nuid": "30e39d75-c09d-4088-ac72-f5fe5a9332d7",
     "showTitle": false,
     "title": ""
    }
   },
   "source": [
    "### Criação da Dimensão Cliente"
   ]
  },
  {
   "cell_type": "code",
   "execution_count": 0,
   "metadata": {
    "application/vnd.databricks.v1+cell": {
     "cellMetadata": {
      "byteLimit": 2048000,
      "rowLimit": 10000
     },
     "inputWidgets": {},
     "nuid": "cf439c04-ea5c-421c-9c76-e51123c47a79",
     "showTitle": false,
     "title": ""
    }
   },
   "outputs": [],
   "source": [
    "#Nome tabela destino\n",
    "tb_destino = \"dim_cliente\"\n",
    "\n",
    "from pyspark.sql.functions import col, monotonically_increasing_id\n",
    "# Passo 1 - Extrair clientes únicos para a dimensão Cliente\n",
    "dim_cliente_df = df_silver.select(\n",
    "    \"IDCliente\", \"Nome\", \"Email\", \"Cidade\", \"Estado\", \"Regiao\", \"Distrito\", \"Pais\", \"CodigoPostal\"\n",
    ").dropDuplicates()\n",
    "\n",
    "# Passo 2 - Realizar o join para obter a SK_Geografia\n",
    "dim_cliente_com_sk_df = dim_cliente_df.alias(\"cliente\") \\\n",
    "    .join(dim_geografia_df.alias(\"geografia\"), \n",
    "          (col(\"cliente.Cidade\") == col(\"geografia.Cidade\")) &\n",
    "          (col(\"cliente.Estado\") == col(\"geografia.Estado\")) &\n",
    "          (col(\"cliente.Regiao\") == col(\"geografia.Regiao\")) &\n",
    "          (col(\"cliente.Distrito\") == col(\"geografia.Distrito\")) &\n",
    "          (col(\"cliente.Pais\") == col(\"geografia.Pais\")) &\n",
    "          (col(\"cliente.CodigoPostal\") == col(\"geografia.CodigoPostal\")), \n",
    "          \"left\") \\\n",
    "    .select(\"cliente.IDCliente\", \"cliente.Nome\", \"cliente.Email\", \"geografia.sk_geografia\")\n",
    "\n",
    "# Passo 3 - Adicionar chave substituta\n",
    "dim_cliente_com_sk_df = dim_cliente_com_sk_df.withColumn(\"sk_cliente\", monotonically_increasing_id()+1) \\\n",
    "                                             .withColumn(\"data_atualizacao\", current_timestamp())\n",
    "\n",
    "\n",
    "# Passo 4 - Selecionar colunas específicas\n",
    "dim_cliente_com_sk_df = dim_cliente_com_sk_df.select(\"IDCliente\", \"Nome\",\"Email\", \"sk_geografia\", \"sk_cliente\",\"data_atualizacao\")\n",
    "\n",
    "# Passo 5 - Escrever DimCliente no formato Delta\n",
    "dim_cliente_com_sk_df.write.format(\"delta\").mode(\"overwrite\").option(\"mergeSchema\", \"true\").save(f\"{gold_path}/{tb_destino}\")"
   ]
  },
  {
   "cell_type": "markdown",
   "metadata": {
    "application/vnd.databricks.v1+cell": {
     "cellMetadata": {},
     "inputWidgets": {},
     "nuid": "1894f40d-60d7-46e9-bd54-69fe71351f2a",
     "showTitle": false,
     "title": ""
    }
   },
   "source": [
    "### Criação de Tabela Fato"
   ]
  },
  {
   "cell_type": "code",
   "execution_count": 0,
   "metadata": {
    "application/vnd.databricks.v1+cell": {
     "cellMetadata": {
      "byteLimit": 2048000,
      "rowLimit": 10000
     },
     "inputWidgets": {},
     "nuid": "37b8b3eb-b651-4f33-a31c-7003a1285f04",
     "showTitle": false,
     "title": ""
    }
   },
   "outputs": [],
   "source": [
    "#Nome tabela destino\n",
    "tb_destino = \"fato_vendas\"\n",
    "\n",
    "from pyspark.sql.functions import broadcast,year, month\n",
    "# Juntar dados da Silver com tabelas de dimensões para obter as chaves substitutas\n",
    "fato_vendas_df = df_silver.alias(\"s\") \\\n",
    "    .join(broadcast(dim_produto_df.select(\"IDProduto\", \"sk_produto\").alias(\"dprod\")), \"IDProduto\") \\\n",
    "    .join(broadcast(dim_categoria_df.select(\"Categoria\", \"sk_categoria\").alias(\"dcat\")), \"Categoria\") \\\n",
    "    .join(broadcast(dim_segmento_df.select(\"Segmento\", \"sk_segmento\").alias(\"dseg\")), \"Segmento\") \\\n",
    "    .join(broadcast(dim_fabricante_df.select(\"Fabricante\", \"sk_fabricante\").alias(\"dfab\")), \"Fabricante\") \\\n",
    "    .join(broadcast(dim_cliente_com_sk_df.select(\"IDCliente\", \"sk_cliente\").alias(\"dcli\")), \"IDCliente\") \\\n",
    "    .select(\n",
    "        col(\"s.Data\").alias(\"DataVenda\"),\n",
    "        \"sk_produto\",\n",
    "        \"sk_categoria\",\n",
    "        \"sk_segmento\",\n",
    "        \"sk_fabricante\",\n",
    "        \"sk_cliente\",\n",
    "        \"Unidades\",\n",
    "        col(\"s.PrecoUnitario\"),\n",
    "        col(\"s.CustoUnitario\"),\n",
    "        col(\"s.TotalVendas\"),\n",
    "        current_timestamp().alias(\"data_atualizacao\")\n",
    "    )\n",
    "\n",
    "# Escrever tabela Fato no formato Delta, particionando por DataVenda (ano e mês)\n",
    "fato_vendas_df.withColumn(\"Ano\", year(\"DataVenda\")) \\\n",
    "             .withColumn(\"Mes\", month(\"DataVenda\")) \\\n",
    "             .write.format(\"delta\") \\\n",
    "             .mode(\"append\")\\\n",
    "             .option(\"mergeSchema\", \"true\")\\\n",
    "             .option(\"MaxRecordsPerFile\", 1000000)\\\n",
    "             .partitionBy(\"Ano\", \"Mes\")\\\n",
    "             .save(f\"{gold_path}/{tb_destino}\")"
   ]
  },
  {
   "cell_type": "markdown",
   "metadata": {
    "application/vnd.databricks.v1+cell": {
     "cellMetadata": {},
     "inputWidgets": {},
     "nuid": "934e4510-bdda-4d01-805d-a3ab49c63b06",
     "showTitle": false,
     "title": ""
    }
   },
   "source": [
    "### Demonstração de informação total vendas por ano"
   ]
  },
  {
   "cell_type": "code",
   "execution_count": 0,
   "metadata": {
    "application/vnd.databricks.v1+cell": {
     "cellMetadata": {
      "byteLimit": 2048000,
      "rowLimit": 10000
     },
     "inputWidgets": {},
     "nuid": "e2b06b72-290a-495b-a785-3389aa5f86f1",
     "showTitle": false,
     "title": ""
    }
   },
   "outputs": [
    {
     "output_type": "display_data",
     "data": {
      "text/html": [
       "<style scoped>\n",
       "  .table-result-container {\n",
       "    max-height: 300px;\n",
       "    overflow: auto;\n",
       "  }\n",
       "  table, th, td {\n",
       "    border: 1px solid black;\n",
       "    border-collapse: collapse;\n",
       "  }\n",
       "  th, td {\n",
       "    padding: 5px;\n",
       "  }\n",
       "  th {\n",
       "    text-align: left;\n",
       "  }\n",
       "</style><div class='table-result-container'><table class='table-result'><thead style='background-color: white'><tr><th>Ano</th><th>SomaTotalVendas</th></tr></thead><tbody><tr><td>2011</td><td>1.0595198130002877E7</td></tr><tr><td>2012</td><td>1.1399112610002367E7</td></tr></tbody></table></div>"
      ]
     },
     "metadata": {
      "application/vnd.databricks.v1+output": {
       "addedWidgets": {},
       "aggData": [],
       "aggError": "",
       "aggOverflow": false,
       "aggSchema": [],
       "aggSeriesLimitReached": false,
       "aggType": "",
       "arguments": {},
       "columnCustomDisplayInfos": {},
       "data": [
        [
         2011,
         1.0595198130002877E7
        ],
        [
         2012,
         1.1399112610002367E7
        ]
       ],
       "datasetInfos": [],
       "dbfsResultPath": null,
       "isJsonSchema": true,
       "metadata": {},
       "overflow": false,
       "plotOptions": {
        "customPlotOptions": {},
        "displayType": "table",
        "pivotAggregation": null,
        "pivotColumns": null,
        "xColumns": null,
        "yColumns": null
       },
       "removedWidgets": [],
       "schema": [
        {
         "metadata": "{}",
         "name": "Ano",
         "type": "\"integer\""
        },
        {
         "metadata": "{}",
         "name": "SomaTotalVendas",
         "type": "\"double\""
        }
       ],
       "type": "table"
      }
     },
     "output_type": "display_data"
    }
   ],
   "source": [
    "from pyspark.sql.functions import sum, col\n",
    "gold_path = \"/mnt/lhdw/gold/vendas_delta/\"\n",
    "# Consulta da fato vendas por categoria ano a ano com a soma de total de vendas\n",
    "\n",
    "resultado = spark.read.format(\"delta\").load(f\"{gold_path}/fato_vendas\") \\\n",
    "    .groupBy(\"Ano\") \\\n",
    "    .agg(sum(\"TotalVendas\").alias(\"SomaTotalVendas\")) \\\n",
    "    .orderBy(col(\"Ano\"), col(\"SomaTotalVendas\").desc())\n",
    "\n",
    "display(resultado)"
   ]
  },
  {
   "cell_type": "markdown",
   "metadata": {
    "application/vnd.databricks.v1+cell": {
     "cellMetadata": {},
     "inputWidgets": {},
     "nuid": "907ddce9-46b7-43d6-9975-e831e1e0f4d2",
     "showTitle": false,
     "title": ""
    }
   },
   "source": []
  },
  {
   "cell_type": "markdown",
   "metadata": {
    "application/vnd.databricks.v1+cell": {
     "cellMetadata": {},
     "inputWidgets": {},
     "nuid": "c47ecd5e-a69c-490b-9dc0-52c5ef5762aa",
     "showTitle": false,
     "title": ""
    }
   },
   "source": [
    "### Limpeza de Memória"
   ]
  },
  {
   "cell_type": "code",
   "execution_count": 0,
   "metadata": {
    "application/vnd.databricks.v1+cell": {
     "cellMetadata": {
      "byteLimit": 2048000,
      "rowLimit": 10000
     },
     "inputWidgets": {},
     "nuid": "27462067-a7da-4f34-b982-e310dc50e3f0",
     "showTitle": false,
     "title": ""
    }
   },
   "outputs": [
    {
     "output_type": "stream",
     "name": "stdout",
     "output_type": "stream",
     "text": [
      "Out[12]: 302"
     ]
    }
   ],
   "source": [
    "import gc\n",
    "# Coletar lixo após operações pesadas para liberar memória\n",
    "gc.collect()"
   ]
  }
 ],
 "metadata": {
  "application/vnd.databricks.v1+notebook": {
   "dashboards": [],
   "environmentMetadata": null,
   "language": "python",
   "notebookMetadata": {
    "pythonIndentUnit": 4
   },
   "notebookName": "005 Load Gold Delta Incremental",
   "widgets": {}
  }
 },
 "nbformat": 4,
 "nbformat_minor": 0
}
