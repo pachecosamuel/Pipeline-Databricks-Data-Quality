{
 "cells": [
  {
   "cell_type": "markdown",
   "metadata": {
    "application/vnd.databricks.v1+cell": {
     "cellMetadata": {},
     "inputWidgets": {},
     "nuid": "b8f6ebb2-bd1f-472b-9df9-3315acf55566",
     "showTitle": false,
     "title": ""
    }
   },
   "source": [
    "### Camada Gold (Delta): Criação de Fatos e Dimensões"
   ]
  },
  {
   "cell_type": "code",
   "execution_count": 0,
   "metadata": {
    "application/vnd.databricks.v1+cell": {
     "cellMetadata": {
      "byteLimit": 2048000,
      "rowLimit": 10000
     },
     "inputWidgets": {},
     "nuid": "a6398c78-3c20-4556-879c-1a7d68216bcd",
     "showTitle": false,
     "title": ""
    }
   },
   "outputs": [],
   "source": [
    "from pyspark.sql import SparkSession\n",
    "\n",
    "# Create a SparkSession with the required configurations for Delta Lake\n",
    "spark = SparkSession.builder \\\n",
    "    .appName(\"Carga Delta\") \\\n",
    "    .config(\"spark.sql.extensions\", \"io.delta.sql.DeltaSparkSessionExtension\") \\\n",
    "    .config(\"spark.sql.catalog.spark_catalog\", \"org.apache.spark.sql.delta.catalog.DeltaCatalog\") \\\n",
    "    .getOrCreate()"
   ]
  },
  {
   "cell_type": "code",
   "execution_count": 0,
   "metadata": {
    "application/vnd.databricks.v1+cell": {
     "cellMetadata": {
      "byteLimit": 2048000,
      "rowLimit": 10000
     },
     "inputWidgets": {},
     "nuid": "323ae8a3-5aa0-43ef-bbbf-ffcc462406f1",
     "showTitle": false,
     "title": ""
    }
   },
   "outputs": [],
   "source": [
    "# Define os caminhos de armazenamento no Data Lake\n",
    "silver_path = \"/mnt/lhdw/silver/vendas\"\n",
    "gold_path = \"/mnt/lhdw/gold/vendas_delta\""
   ]
  },
  {
   "cell_type": "markdown",
   "metadata": {
    "application/vnd.databricks.v1+cell": {
     "cellMetadata": {},
     "inputWidgets": {},
     "nuid": "f11773cb-554d-4c0c-910e-5e8361cc4fbe",
     "showTitle": false,
     "title": ""
    }
   },
   "source": [
    "### Ler dados Camada Silver"
   ]
  },
  {
   "cell_type": "code",
   "execution_count": 0,
   "metadata": {
    "application/vnd.databricks.v1+cell": {
     "cellMetadata": {
      "byteLimit": 2048000,
      "rowLimit": 10000
     },
     "inputWidgets": {},
     "nuid": "168a4bf3-63be-47d6-b41d-425d50a7aea3",
     "showTitle": false,
     "title": ""
    }
   },
   "outputs": [],
   "source": [
    "df_silver = spark.read.format(\"parquet\").load(silver_path)"
   ]
  },
  {
   "cell_type": "markdown",
   "metadata": {
    "application/vnd.databricks.v1+cell": {
     "cellMetadata": {},
     "inputWidgets": {},
     "nuid": "ae2901bb-159e-4c49-a35a-5794d4147069",
     "showTitle": false,
     "title": ""
    }
   },
   "source": [
    "### Criação da Dimensão Produto"
   ]
  },
  {
   "cell_type": "code",
   "execution_count": 0,
   "metadata": {
    "application/vnd.databricks.v1+cell": {
     "cellMetadata": {
      "byteLimit": 2048000,
      "rowLimit": 10000
     },
     "inputWidgets": {},
     "nuid": "2cd61be0-b1b8-4087-bbce-48a15691d94a",
     "showTitle": false,
     "title": ""
    }
   },
   "outputs": [
    {
     "output_type": "display_data",
     "data": {
      "text/html": [
       "<style scoped>\n",
       "  .table-result-container {\n",
       "    max-height: 300px;\n",
       "    overflow: auto;\n",
       "  }\n",
       "  table, th, td {\n",
       "    border: 1px solid black;\n",
       "    border-collapse: collapse;\n",
       "  }\n",
       "  th, td {\n",
       "    padding: 5px;\n",
       "  }\n",
       "  th {\n",
       "    text-align: left;\n",
       "  }\n",
       "</style><div class='table-result-container'><table class='table-result'><thead style='background-color: white'><tr><th>IDProduto</th><th>Produto</th><th>Categoria</th><th>sk_produto</th></tr></thead><tbody><tr><td>585</td><td>Maximus UC-50</td><td>Urban</td><td>1</td></tr><tr><td>423</td><td>Maximus UM-28</td><td>Urban</td><td>2</td></tr><tr><td>562</td><td>Maximus UC-27</td><td>Youth</td><td>3</td></tr><tr><td>405</td><td>Maximus UM-10</td><td>Accessory</td><td>4</td></tr><tr><td>540</td><td>Maximus UC-05</td><td>Mix</td><td>5</td></tr><tr><td>681</td><td>Maximus UC-46</td><td>Urban</td><td>6</td></tr><tr><td>628</td><td>Maximus UC-93</td><td>Urban</td><td>7</td></tr><tr><td>415</td><td>Maximus UM-20</td><td>Urban</td><td>8</td></tr><tr><td>406</td><td>Maximus UM-11</td><td>Accessory</td><td>9</td></tr><tr><td>512</td><td>Maximus UR-01</td><td>Urban</td><td>10</td></tr><tr><td>525</td><td>Maximus UE-13</td><td>Urban</td><td>11</td></tr><tr><td>520</td><td>Maximus UE-08</td><td>Urban</td><td>12</td></tr><tr><td>609</td><td>Maximus UC-74</td><td>Urban</td><td>13</td></tr><tr><td>528</td><td>Maximus UE-16</td><td>Urban</td><td>14</td></tr><tr><td>686</td><td>Maximus UC-51</td><td>Urban</td><td>15</td></tr><tr><td>517</td><td>Maximus UE-05</td><td>Urban</td><td>16</td></tr><tr><td>662</td><td>Maximus UC-27</td><td>Urban</td><td>17</td></tr><tr><td>501</td><td>Maximus UM-06</td><td>Urban</td><td>18</td></tr><tr><td>577</td><td>Maximus UC-42</td><td>Urban</td><td>19</td></tr><tr><td>538</td><td>Maximus UC-03</td><td>Mix</td><td>20</td></tr><tr><td>537</td><td>Maximus UC-02</td><td>Mix</td><td>21</td></tr><tr><td>578</td><td>Maximus UC-43</td><td>Urban</td><td>22</td></tr><tr><td>690</td><td>Maximus UC-55</td><td>Urban</td><td>23</td></tr><tr><td>515</td><td>Maximus UE-03</td><td>Urban</td><td>24</td></tr><tr><td>579</td><td>Maximus UC-44</td><td>Urban</td><td>25</td></tr><tr><td>438</td><td>Maximus UM-43</td><td>Urban</td><td>26</td></tr><tr><td>638</td><td>Maximus UC-03</td><td>Urban</td><td>27</td></tr><tr><td>524</td><td>Maximus UE-12</td><td>Urban</td><td>28</td></tr><tr><td>684</td><td>Maximus UC-49</td><td>Urban</td><td>29</td></tr><tr><td>689</td><td>Maximus UC-54</td><td>Urban</td><td>30</td></tr><tr><td>685</td><td>Maximus UC-50</td><td>Urban</td><td>31</td></tr><tr><td>443</td><td>Maximus UM-48</td><td>Urban</td><td>32</td></tr><tr><td>636</td><td>Maximus UC-01</td><td>Urban</td><td>33</td></tr><tr><td>420</td><td>Maximus UM-25</td><td>Urban</td><td>34</td></tr><tr><td>416</td><td>Maximus UM-21</td><td>Urban</td><td>35</td></tr><tr><td>657</td><td>Maximus UC-22</td><td>Urban</td><td>36</td></tr><tr><td>559</td><td>Maximus UC-24</td><td>Mix</td><td>37</td></tr><tr><td>424</td><td>Maximus UM-29</td><td>Urban</td><td>38</td></tr><tr><td>539</td><td>Maximus UC-04</td><td>Mix</td><td>39</td></tr><tr><td>457</td><td>Maximus UM-62</td><td>Urban</td><td>40</td></tr><tr><td>541</td><td>Maximus UC-06</td><td>Mix</td><td>41</td></tr><tr><td>491</td><td>Maximus UM-96</td><td>Urban</td><td>42</td></tr><tr><td>470</td><td>Maximus UM-75</td><td>Urban</td><td>43</td></tr><tr><td>599</td><td>Maximus UC-64</td><td>Urban</td><td>44</td></tr><tr><td>601</td><td>Maximus UC-66</td><td>Urban</td><td>45</td></tr><tr><td>548</td><td>Maximus UC-13</td><td>Mix</td><td>46</td></tr><tr><td>394</td><td>Maximus RS-01</td><td>Rural</td><td>47</td></tr><tr><td>572</td><td>Maximus UC-37</td><td>Youth</td><td>48</td></tr><tr><td>635</td><td>Maximus UC-00</td><td>Urban</td><td>49</td></tr><tr><td>605</td><td>Maximus UC-70</td><td>Urban</td><td>50</td></tr><tr><td>674</td><td>Maximus UC-39</td><td>Urban</td><td>51</td></tr><tr><td>580</td><td>Maximus UC-45</td><td>Urban</td><td>52</td></tr><tr><td>473</td><td>Maximus UM-78</td><td>Urban</td><td>53</td></tr><tr><td>568</td><td>Maximus UC-33</td><td>Youth</td><td>54</td></tr><tr><td>427</td><td>Maximus UM-32</td><td>Urban</td><td>55</td></tr><tr><td>567</td><td>Maximus UC-32</td><td>Youth</td><td>56</td></tr><tr><td>604</td><td>Maximus UC-69</td><td>Urban</td><td>57</td></tr><tr><td>687</td><td>Maximus UC-52</td><td>Urban</td><td>58</td></tr><tr><td>492</td><td>Maximus UM-97</td><td>Urban</td><td>59</td></tr><tr><td>611</td><td>Maximus UC-76</td><td>Urban</td><td>60</td></tr><tr><td>545</td><td>Maximus UC-10</td><td>Mix</td><td>61</td></tr><tr><td>478</td><td>Maximus UM-83</td><td>Urban</td><td>62</td></tr><tr><td>535</td><td>Maximus UE-23</td><td>Urban</td><td>63</td></tr><tr><td>596</td><td>Maximus UC-61</td><td>Urban</td><td>64</td></tr><tr><td>691</td><td>Maximus UC-56</td><td>Urban</td><td>65</td></tr><tr><td>627</td><td>Maximus UC-92</td><td>Urban</td><td>66</td></tr><tr><td>527</td><td>Maximus UE-15</td><td>Urban</td><td>67</td></tr><tr><td>639</td><td>Maximus UC-04</td><td>Urban</td><td>68</td></tr><tr><td>523</td><td>Maximus UE-11</td><td>Urban</td><td>69</td></tr><tr><td>625</td><td>Maximus UC-90</td><td>Urban</td><td>70</td></tr><tr><td>516</td><td>Maximus UE-04</td><td>Urban</td><td>71</td></tr><tr><td>404</td><td>Maximus UM-09</td><td>Accessory</td><td>72</td></tr><tr><td>504</td><td>Maximus UM-09</td><td>Urban</td><td>73</td></tr><tr><td>675</td><td>Maximus UC-40</td><td>Urban</td><td>74</td></tr><tr><td>407</td><td>Maximus UM-12</td><td>Accessory</td><td>75</td></tr><tr><td>506</td><td>Maximus UM-11</td><td>Urban</td><td>76</td></tr><tr><td>626</td><td>Maximus UC-91</td><td>Urban</td><td>77</td></tr><tr><td>629</td><td>Maximus UC-94</td><td>Urban</td><td>78</td></tr><tr><td>449</td><td>Maximus UM-54</td><td>Urban</td><td>79</td></tr><tr><td>660</td><td>Maximus UC-25</td><td>Urban</td><td>80</td></tr><tr><td>531</td><td>Maximus UE-19</td><td>Urban</td><td>81</td></tr><tr><td>544</td><td>Maximus UC-09</td><td>Mix</td><td>82</td></tr><tr><td>583</td><td>Maximus UC-48</td><td>Urban</td><td>83</td></tr><tr><td>650</td><td>Maximus UC-15</td><td>Urban</td><td>84</td></tr><tr><td>546</td><td>Maximus UC-11</td><td>Mix</td><td>85</td></tr><tr><td>426</td><td>Maximus UM-31</td><td>Urban</td><td>86</td></tr><tr><td>592</td><td>Maximus UC-57</td><td>Urban</td><td>87</td></tr><tr><td>534</td><td>Maximus UE-22</td><td>Urban</td><td>88</td></tr><tr><td>556</td><td>Maximus UC-21</td><td>Mix</td><td>89</td></tr><tr><td>655</td><td>Maximus UC-20</td><td>Urban</td><td>90</td></tr><tr><td>590</td><td>Maximus UC-55</td><td>Urban</td><td>91</td></tr><tr><td>672</td><td>Maximus UC-37</td><td>Urban</td><td>92</td></tr><tr><td>430</td><td>Maximus UM-35</td><td>Urban</td><td>93</td></tr><tr><td>659</td><td>Maximus UC-24</td><td>Urban</td><td>94</td></tr><tr><td>633</td><td>Maximus UC-98</td><td>Urban</td><td>95</td></tr><tr><td>593</td><td>Maximus UC-58</td><td>Urban</td><td>96</td></tr><tr><td>433</td><td>Maximus UM-38</td><td>Urban</td><td>97</td></tr><tr><td>554</td><td>Maximus UC-19</td><td>Mix</td><td>98</td></tr><tr><td>549</td><td>Maximus UC-14</td><td>Mix</td><td>99</td></tr><tr><td>676</td><td>Maximus UC-41</td><td>Urban</td><td>100</td></tr><tr><td>440</td><td>Maximus UM-45</td><td>Urban</td><td>101</td></tr><tr><td>615</td><td>Maximus UC-80</td><td>Urban</td><td>102</td></tr><tr><td>603</td><td>Maximus UC-68</td><td>Urban</td><td>103</td></tr><tr><td>600</td><td>Maximus UC-65</td><td>Urban</td><td>104</td></tr><tr><td>429</td><td>Maximus UM-34</td><td>Urban</td><td>105</td></tr><tr><td>588</td><td>Maximus UC-53</td><td>Urban</td><td>106</td></tr><tr><td>412</td><td>Maximus UM-17</td><td>Urban</td><td>107</td></tr><tr><td>487</td><td>Maximus UM-92</td><td>Urban</td><td>108</td></tr><tr><td>499</td><td>Maximus UM-04</td><td>Urban</td><td>109</td></tr><tr><td>456</td><td>Maximus UM-61</td><td>Urban</td><td>110</td></tr><tr><td>496</td><td>Maximus UM-01</td><td>Urban</td><td>111</td></tr><tr><td>400</td><td>Maximus UM-05</td><td>Accessory</td><td>112</td></tr><tr><td>553</td><td>Maximus UC-18</td><td>Mix</td><td>113</td></tr><tr><td>529</td><td>Maximus UE-17</td><td>Urban</td><td>114</td></tr><tr><td>489</td><td>Maximus UM-94</td><td>Urban</td><td>115</td></tr><tr><td>533</td><td>Maximus UE-21</td><td>Urban</td><td>116</td></tr><tr><td>419</td><td>Maximus UM-24</td><td>Urban</td><td>117</td></tr><tr><td>495</td><td>Maximus UM-00</td><td>Urban</td><td>118</td></tr><tr><td>532</td><td>Maximus UE-20</td><td>Urban</td><td>119</td></tr><tr><td>565</td><td>Maximus UC-30</td><td>Youth</td><td>120</td></tr><tr><td>481</td><td>Maximus UM-86</td><td>Urban</td><td>121</td></tr><tr><td>436</td><td>Maximus UM-41</td><td>Urban</td><td>122</td></tr><tr><td>569</td><td>Maximus UC-34</td><td>Youth</td><td>123</td></tr><tr><td>409</td><td>Maximus UM-14</td><td>Urban</td><td>124</td></tr><tr><td>648</td><td>Maximus UC-13</td><td>Urban</td><td>125</td></tr><tr><td>581</td><td>Maximus UC-46</td><td>Urban</td><td>126</td></tr><tr><td>418</td><td>Maximus UM-23</td><td>Urban</td><td>127</td></tr><tr><td>475</td><td>Maximus UM-80</td><td>Urban</td><td>128</td></tr><tr><td>503</td><td>Maximus UM-08</td><td>Urban</td><td>129</td></tr><tr><td>641</td><td>Maximus UC-06</td><td>Urban</td><td>130</td></tr><tr><td>510</td><td>Maximus UM-15</td><td>Urban</td><td>131</td></tr><tr><td>497</td><td>Maximus UM-02</td><td>Urban</td><td>132</td></tr><tr><td>459</td><td>Maximus UM-64</td><td>Urban</td><td>133</td></tr><tr><td>425</td><td>Maximus UM-30</td><td>Urban</td><td>134</td></tr><tr><td>530</td><td>Maximus UE-18</td><td>Urban</td><td>135</td></tr><tr><td>445</td><td>Maximus UM-50</td><td>Urban</td><td>136</td></tr><tr><td>396</td><td>Maximus UM-01</td><td>Accessory</td><td>137</td></tr></tbody></table></div>"
      ]
     },
     "metadata": {
      "application/vnd.databricks.v1+output": {
       "addedWidgets": {},
       "aggData": [],
       "aggError": "",
       "aggOverflow": false,
       "aggSchema": [],
       "aggSeriesLimitReached": false,
       "aggType": "",
       "arguments": {},
       "columnCustomDisplayInfos": {},
       "data": [
        [
         585,
         "Maximus UC-50",
         "Urban",
         1
        ],
        [
         423,
         "Maximus UM-28",
         "Urban",
         2
        ],
        [
         562,
         "Maximus UC-27",
         "Youth",
         3
        ],
        [
         405,
         "Maximus UM-10",
         "Accessory",
         4
        ],
        [
         540,
         "Maximus UC-05",
         "Mix",
         5
        ],
        [
         681,
         "Maximus UC-46",
         "Urban",
         6
        ],
        [
         628,
         "Maximus UC-93",
         "Urban",
         7
        ],
        [
         415,
         "Maximus UM-20",
         "Urban",
         8
        ],
        [
         406,
         "Maximus UM-11",
         "Accessory",
         9
        ],
        [
         512,
         "Maximus UR-01",
         "Urban",
         10
        ],
        [
         525,
         "Maximus UE-13",
         "Urban",
         11
        ],
        [
         520,
         "Maximus UE-08",
         "Urban",
         12
        ],
        [
         609,
         "Maximus UC-74",
         "Urban",
         13
        ],
        [
         528,
         "Maximus UE-16",
         "Urban",
         14
        ],
        [
         686,
         "Maximus UC-51",
         "Urban",
         15
        ],
        [
         517,
         "Maximus UE-05",
         "Urban",
         16
        ],
        [
         662,
         "Maximus UC-27",
         "Urban",
         17
        ],
        [
         501,
         "Maximus UM-06",
         "Urban",
         18
        ],
        [
         577,
         "Maximus UC-42",
         "Urban",
         19
        ],
        [
         538,
         "Maximus UC-03",
         "Mix",
         20
        ],
        [
         537,
         "Maximus UC-02",
         "Mix",
         21
        ],
        [
         578,
         "Maximus UC-43",
         "Urban",
         22
        ],
        [
         690,
         "Maximus UC-55",
         "Urban",
         23
        ],
        [
         515,
         "Maximus UE-03",
         "Urban",
         24
        ],
        [
         579,
         "Maximus UC-44",
         "Urban",
         25
        ],
        [
         438,
         "Maximus UM-43",
         "Urban",
         26
        ],
        [
         638,
         "Maximus UC-03",
         "Urban",
         27
        ],
        [
         524,
         "Maximus UE-12",
         "Urban",
         28
        ],
        [
         684,
         "Maximus UC-49",
         "Urban",
         29
        ],
        [
         689,
         "Maximus UC-54",
         "Urban",
         30
        ],
        [
         685,
         "Maximus UC-50",
         "Urban",
         31
        ],
        [
         443,
         "Maximus UM-48",
         "Urban",
         32
        ],
        [
         636,
         "Maximus UC-01",
         "Urban",
         33
        ],
        [
         420,
         "Maximus UM-25",
         "Urban",
         34
        ],
        [
         416,
         "Maximus UM-21",
         "Urban",
         35
        ],
        [
         657,
         "Maximus UC-22",
         "Urban",
         36
        ],
        [
         559,
         "Maximus UC-24",
         "Mix",
         37
        ],
        [
         424,
         "Maximus UM-29",
         "Urban",
         38
        ],
        [
         539,
         "Maximus UC-04",
         "Mix",
         39
        ],
        [
         457,
         "Maximus UM-62",
         "Urban",
         40
        ],
        [
         541,
         "Maximus UC-06",
         "Mix",
         41
        ],
        [
         491,
         "Maximus UM-96",
         "Urban",
         42
        ],
        [
         470,
         "Maximus UM-75",
         "Urban",
         43
        ],
        [
         599,
         "Maximus UC-64",
         "Urban",
         44
        ],
        [
         601,
         "Maximus UC-66",
         "Urban",
         45
        ],
        [
         548,
         "Maximus UC-13",
         "Mix",
         46
        ],
        [
         394,
         "Maximus RS-01",
         "Rural",
         47
        ],
        [
         572,
         "Maximus UC-37",
         "Youth",
         48
        ],
        [
         635,
         "Maximus UC-00",
         "Urban",
         49
        ],
        [
         605,
         "Maximus UC-70",
         "Urban",
         50
        ],
        [
         674,
         "Maximus UC-39",
         "Urban",
         51
        ],
        [
         580,
         "Maximus UC-45",
         "Urban",
         52
        ],
        [
         473,
         "Maximus UM-78",
         "Urban",
         53
        ],
        [
         568,
         "Maximus UC-33",
         "Youth",
         54
        ],
        [
         427,
         "Maximus UM-32",
         "Urban",
         55
        ],
        [
         567,
         "Maximus UC-32",
         "Youth",
         56
        ],
        [
         604,
         "Maximus UC-69",
         "Urban",
         57
        ],
        [
         687,
         "Maximus UC-52",
         "Urban",
         58
        ],
        [
         492,
         "Maximus UM-97",
         "Urban",
         59
        ],
        [
         611,
         "Maximus UC-76",
         "Urban",
         60
        ],
        [
         545,
         "Maximus UC-10",
         "Mix",
         61
        ],
        [
         478,
         "Maximus UM-83",
         "Urban",
         62
        ],
        [
         535,
         "Maximus UE-23",
         "Urban",
         63
        ],
        [
         596,
         "Maximus UC-61",
         "Urban",
         64
        ],
        [
         691,
         "Maximus UC-56",
         "Urban",
         65
        ],
        [
         627,
         "Maximus UC-92",
         "Urban",
         66
        ],
        [
         527,
         "Maximus UE-15",
         "Urban",
         67
        ],
        [
         639,
         "Maximus UC-04",
         "Urban",
         68
        ],
        [
         523,
         "Maximus UE-11",
         "Urban",
         69
        ],
        [
         625,
         "Maximus UC-90",
         "Urban",
         70
        ],
        [
         516,
         "Maximus UE-04",
         "Urban",
         71
        ],
        [
         404,
         "Maximus UM-09",
         "Accessory",
         72
        ],
        [
         504,
         "Maximus UM-09",
         "Urban",
         73
        ],
        [
         675,
         "Maximus UC-40",
         "Urban",
         74
        ],
        [
         407,
         "Maximus UM-12",
         "Accessory",
         75
        ],
        [
         506,
         "Maximus UM-11",
         "Urban",
         76
        ],
        [
         626,
         "Maximus UC-91",
         "Urban",
         77
        ],
        [
         629,
         "Maximus UC-94",
         "Urban",
         78
        ],
        [
         449,
         "Maximus UM-54",
         "Urban",
         79
        ],
        [
         660,
         "Maximus UC-25",
         "Urban",
         80
        ],
        [
         531,
         "Maximus UE-19",
         "Urban",
         81
        ],
        [
         544,
         "Maximus UC-09",
         "Mix",
         82
        ],
        [
         583,
         "Maximus UC-48",
         "Urban",
         83
        ],
        [
         650,
         "Maximus UC-15",
         "Urban",
         84
        ],
        [
         546,
         "Maximus UC-11",
         "Mix",
         85
        ],
        [
         426,
         "Maximus UM-31",
         "Urban",
         86
        ],
        [
         592,
         "Maximus UC-57",
         "Urban",
         87
        ],
        [
         534,
         "Maximus UE-22",
         "Urban",
         88
        ],
        [
         556,
         "Maximus UC-21",
         "Mix",
         89
        ],
        [
         655,
         "Maximus UC-20",
         "Urban",
         90
        ],
        [
         590,
         "Maximus UC-55",
         "Urban",
         91
        ],
        [
         672,
         "Maximus UC-37",
         "Urban",
         92
        ],
        [
         430,
         "Maximus UM-35",
         "Urban",
         93
        ],
        [
         659,
         "Maximus UC-24",
         "Urban",
         94
        ],
        [
         633,
         "Maximus UC-98",
         "Urban",
         95
        ],
        [
         593,
         "Maximus UC-58",
         "Urban",
         96
        ],
        [
         433,
         "Maximus UM-38",
         "Urban",
         97
        ],
        [
         554,
         "Maximus UC-19",
         "Mix",
         98
        ],
        [
         549,
         "Maximus UC-14",
         "Mix",
         99
        ],
        [
         676,
         "Maximus UC-41",
         "Urban",
         100
        ],
        [
         440,
         "Maximus UM-45",
         "Urban",
         101
        ],
        [
         615,
         "Maximus UC-80",
         "Urban",
         102
        ],
        [
         603,
         "Maximus UC-68",
         "Urban",
         103
        ],
        [
         600,
         "Maximus UC-65",
         "Urban",
         104
        ],
        [
         429,
         "Maximus UM-34",
         "Urban",
         105
        ],
        [
         588,
         "Maximus UC-53",
         "Urban",
         106
        ],
        [
         412,
         "Maximus UM-17",
         "Urban",
         107
        ],
        [
         487,
         "Maximus UM-92",
         "Urban",
         108
        ],
        [
         499,
         "Maximus UM-04",
         "Urban",
         109
        ],
        [
         456,
         "Maximus UM-61",
         "Urban",
         110
        ],
        [
         496,
         "Maximus UM-01",
         "Urban",
         111
        ],
        [
         400,
         "Maximus UM-05",
         "Accessory",
         112
        ],
        [
         553,
         "Maximus UC-18",
         "Mix",
         113
        ],
        [
         529,
         "Maximus UE-17",
         "Urban",
         114
        ],
        [
         489,
         "Maximus UM-94",
         "Urban",
         115
        ],
        [
         533,
         "Maximus UE-21",
         "Urban",
         116
        ],
        [
         419,
         "Maximus UM-24",
         "Urban",
         117
        ],
        [
         495,
         "Maximus UM-00",
         "Urban",
         118
        ],
        [
         532,
         "Maximus UE-20",
         "Urban",
         119
        ],
        [
         565,
         "Maximus UC-30",
         "Youth",
         120
        ],
        [
         481,
         "Maximus UM-86",
         "Urban",
         121
        ],
        [
         436,
         "Maximus UM-41",
         "Urban",
         122
        ],
        [
         569,
         "Maximus UC-34",
         "Youth",
         123
        ],
        [
         409,
         "Maximus UM-14",
         "Urban",
         124
        ],
        [
         648,
         "Maximus UC-13",
         "Urban",
         125
        ],
        [
         581,
         "Maximus UC-46",
         "Urban",
         126
        ],
        [
         418,
         "Maximus UM-23",
         "Urban",
         127
        ],
        [
         475,
         "Maximus UM-80",
         "Urban",
         128
        ],
        [
         503,
         "Maximus UM-08",
         "Urban",
         129
        ],
        [
         641,
         "Maximus UC-06",
         "Urban",
         130
        ],
        [
         510,
         "Maximus UM-15",
         "Urban",
         131
        ],
        [
         497,
         "Maximus UM-02",
         "Urban",
         132
        ],
        [
         459,
         "Maximus UM-64",
         "Urban",
         133
        ],
        [
         425,
         "Maximus UM-30",
         "Urban",
         134
        ],
        [
         530,
         "Maximus UE-18",
         "Urban",
         135
        ],
        [
         445,
         "Maximus UM-50",
         "Urban",
         136
        ],
        [
         396,
         "Maximus UM-01",
         "Accessory",
         137
        ]
       ],
       "datasetInfos": [],
       "dbfsResultPath": null,
       "isJsonSchema": true,
       "metadata": {},
       "overflow": false,
       "plotOptions": {
        "customPlotOptions": {},
        "displayType": "table",
        "pivotAggregation": null,
        "pivotColumns": null,
        "xColumns": null,
        "yColumns": null
       },
       "removedWidgets": [],
       "schema": [
        {
         "metadata": "{}",
         "name": "IDProduto",
         "type": "\"integer\""
        },
        {
         "metadata": "{}",
         "name": "Produto",
         "type": "\"string\""
        },
        {
         "metadata": "{}",
         "name": "Categoria",
         "type": "\"string\""
        },
        {
         "metadata": "{}",
         "name": "sk_produto",
         "type": "\"long\""
        }
       ],
       "type": "table"
      }
     },
     "output_type": "display_data"
    },
    {
     "output_type": "stream",
     "name": "stdout",
     "output_type": "stream",
     "text": [
      "Out[4]: 137"
     ]
    }
   ],
   "source": [
    "from pyspark.sql.functions import monotonically_increasing_id\n",
    "#Nome tabela destino\n",
    "\n",
    "tb_destino = \"dim_produto\"\n",
    "\n",
    "# Extrair produtos únicos para a dimensão Produto\n",
    "dim_produto_df = df_silver.select(\n",
    "    \"IDProduto\", \"Produto\", \"Categoria\").dropDuplicates()\n",
    "\n",
    "# Adicionar chave substituta (surrogate keys)\n",
    "dim_produto_df = dim_produto_df.withColumn(\"sk_produto\", monotonically_increasing_id()+1)\n",
    "\n",
    "# Escrever DimProduto no formato Delta\n",
    "dim_produto_df.write.format(\"delta\").mode(\"overwrite\").save(f\"{gold_path}/{tb_destino}\")\n",
    "\n",
    "#display(dim_produto_df)\n",
    "#dim_produto_df.count()"
   ]
  },
  {
   "cell_type": "markdown",
   "metadata": {
    "application/vnd.databricks.v1+cell": {
     "cellMetadata": {},
     "inputWidgets": {},
     "nuid": "bba96d39-f6e9-4971-8b77-3c9475761626",
     "showTitle": false,
     "title": ""
    }
   },
   "source": [
    "### Criação da Dimensão Categoria"
   ]
  },
  {
   "cell_type": "code",
   "execution_count": 0,
   "metadata": {
    "application/vnd.databricks.v1+cell": {
     "cellMetadata": {
      "byteLimit": 2048000,
      "rowLimit": 10000
     },
     "inputWidgets": {},
     "nuid": "76509140-b502-48ba-9f5e-24844a45ea34",
     "showTitle": false,
     "title": ""
    }
   },
   "outputs": [
    {
     "output_type": "stream",
     "name": "stdout",
     "output_type": "stream",
     "text": [
      "Out[5]: 5"
     ]
    }
   ],
   "source": [
    "from pyspark.sql.functions import monotonically_increasing_id\n",
    "#Nome tabela destino\n",
    "\n",
    "tb_destino = \"dim_categoria\"\n",
    "\n",
    "# Extrair Categorias únicas para a dimensão Categoria\n",
    "dim_categoria_df = df_silver.select(\n",
    "    \"Categoria\").dropDuplicates()\n",
    "\n",
    "# Adicionar chave substituta (surrogate keys)\n",
    "dim_categoria_df = dim_categoria_df.withColumn(\"sk_categoria\", monotonically_increasing_id()+1)\n",
    "\n",
    "# Escrever DimCatgoria no formato Parquet, particionando por Categoria\n",
    "dim_categoria_df.write.format(\"delta\").mode(\"overwrite\").save(f\"{gold_path}/{tb_destino}\")\n",
    "\n",
    "dim_categoria_df.count()"
   ]
  },
  {
   "cell_type": "markdown",
   "metadata": {
    "application/vnd.databricks.v1+cell": {
     "cellMetadata": {},
     "inputWidgets": {},
     "nuid": "1842462d-3602-45ab-889b-55c8e53d24c1",
     "showTitle": false,
     "title": ""
    }
   },
   "source": [
    "### Criação da Dimensão Segmento"
   ]
  },
  {
   "cell_type": "code",
   "execution_count": 0,
   "metadata": {
    "application/vnd.databricks.v1+cell": {
     "cellMetadata": {
      "byteLimit": 2048000,
      "rowLimit": 10000
     },
     "inputWidgets": {},
     "nuid": "5140696a-4139-4159-8a3a-055d38ece6b3",
     "showTitle": false,
     "title": ""
    }
   },
   "outputs": [
    {
     "output_type": "stream",
     "name": "stdout",
     "output_type": "stream",
     "text": [
      "Out[6]: 9"
     ]
    }
   ],
   "source": [
    "#Nome tabela destino\n",
    "\n",
    "tb_destino = \"dim_segmento\"\n",
    "\n",
    "# Extrair Segmentos únicos para a dimensão Segmentos\n",
    "dim_segmento_df = df_silver.select(\n",
    "   \"Segmento\").dropDuplicates()\n",
    "\n",
    "# Adicionar chave substituta (surrogate keys)\n",
    "dim_segmento_df = dim_segmento_df.withColumn(\"sk_segmento\", monotonically_increasing_id()+1)\n",
    "\n",
    "# Escrever DimSegmento no formato Parquet\n",
    "dim_segmento_df.write.format(\"delta\").mode(\"overwrite\").save(f\"{gold_path}/{tb_destino}\")\n",
    "\n",
    "dim_segmento_df.count()\n"
   ]
  },
  {
   "cell_type": "markdown",
   "metadata": {
    "application/vnd.databricks.v1+cell": {
     "cellMetadata": {},
     "inputWidgets": {},
     "nuid": "df8cf69d-e3fa-45f9-a2da-c9c07258e526",
     "showTitle": false,
     "title": ""
    }
   },
   "source": [
    "### Criação da Dimensão Fabricante"
   ]
  },
  {
   "cell_type": "code",
   "execution_count": 0,
   "metadata": {
    "application/vnd.databricks.v1+cell": {
     "cellMetadata": {
      "byteLimit": 2048000,
      "rowLimit": 10000
     },
     "inputWidgets": {},
     "nuid": "ebd8ae90-4dba-4cd1-a7e2-8ba19cd49657",
     "showTitle": false,
     "title": ""
    }
   },
   "outputs": [
    {
     "output_type": "stream",
     "name": "stdout",
     "output_type": "stream",
     "text": [
      "Out[7]: 1"
     ]
    }
   ],
   "source": [
    "#Nome tabela destino\n",
    "tb_destino = \"dim_fabricante\"\n",
    "\n",
    "# Extrair produtos únicos para a dimensão Fabricante    \n",
    "dim_fabricante_df = df_silver.select(\n",
    "    \"IDFabricante\", \"Fabricante\").dropDuplicates()\n",
    "\n",
    "# Adicionar chave substituta (surrogate keys)\n",
    "dim_fabricante_df = dim_fabricante_df.withColumn(\"sk_fabricante\", monotonically_increasing_id()+1)\n",
    "\n",
    "# Escrever DimFabricante no formato Delta\n",
    "dim_fabricante_df.write.format(\"delta\").mode(\"overwrite\").save(f\"{gold_path}/{tb_destino}\")\n",
    "\n",
    "dim_fabricante_df.count()"
   ]
  },
  {
   "cell_type": "markdown",
   "metadata": {
    "application/vnd.databricks.v1+cell": {
     "cellMetadata": {},
     "inputWidgets": {},
     "nuid": "dd5c9c48-3c05-4cfa-b858-0d98b843a440",
     "showTitle": false,
     "title": ""
    }
   },
   "source": [
    "### Criação da Dimensão Geografia"
   ]
  },
  {
   "cell_type": "code",
   "execution_count": 0,
   "metadata": {
    "application/vnd.databricks.v1+cell": {
     "cellMetadata": {
      "byteLimit": 2048000,
      "rowLimit": 10000
     },
     "inputWidgets": {},
     "nuid": "d9cb6c3f-6543-441f-a304-c86ffb60ef5f",
     "showTitle": false,
     "title": ""
    }
   },
   "outputs": [
    {
     "output_type": "stream",
     "name": "stdout",
     "output_type": "stream",
     "text": [
      "Out[8]: 20467"
     ]
    }
   ],
   "source": [
    "#Nome tabela destino\n",
    "tb_destino = \"dim_geografia\"\n",
    "\n",
    "# Extrair Geografia  únicos para a dimensão Geografia\n",
    "dim_geografia_df = df_silver.select(\n",
    "     \"Cidade\", \"Estado\", \"Regiao\", \"Distrito\", \"Pais\", \"CodigoPostal\"\n",
    ").dropDuplicates()\n",
    "\n",
    "# Adicionar chave substituta\n",
    "dim_geografia_df = dim_geografia_df.withColumn(\"sk_geografia\", monotonically_increasing_id()+1)\n",
    "\n",
    "# Escrever DimGeografia no formato Parquet\n",
    "dim_geografia_df.write.format(\"delta\").mode(\"overwrite\").save(f\"{gold_path}/{tb_destino}\")\n",
    "\n",
    "dim_geografia_df.count()\n"
   ]
  },
  {
   "cell_type": "markdown",
   "metadata": {
    "application/vnd.databricks.v1+cell": {
     "cellMetadata": {},
     "inputWidgets": {},
     "nuid": "30e39d75-c09d-4088-ac72-f5fe5a9332d7",
     "showTitle": false,
     "title": ""
    }
   },
   "source": [
    "### Criação da Dimensão Cliente"
   ]
  },
  {
   "cell_type": "code",
   "execution_count": 0,
   "metadata": {
    "application/vnd.databricks.v1+cell": {
     "cellMetadata": {
      "byteLimit": 2048000,
      "rowLimit": 10000
     },
     "inputWidgets": {},
     "nuid": "cf439c04-ea5c-421c-9c76-e51123c47a79",
     "showTitle": false,
     "title": ""
    }
   },
   "outputs": [
    {
     "output_type": "stream",
     "name": "stdout",
     "output_type": "stream",
     "text": [
      "Out[9]: 112081"
     ]
    }
   ],
   "source": [
    "#Nome tabela destino\n",
    "tb_destino = \"dim_cliente\"\n",
    "\n",
    "from pyspark.sql.functions import col, monotonically_increasing_id\n",
    "# Passo 1 - Extrair clientes únicos para a dimensão Cliente\n",
    "dim_cliente_df = df_silver.select(\n",
    "    \"IDCliente\", \"Nome\", \"Email\", \"Cidade\", \"Estado\", \"Regiao\", \"Distrito\", \"Pais\", \"CodigoPostal\"\n",
    ").dropDuplicates()\n",
    "\n",
    "# Passo 2 - Realizar o join para obter a SK_Geografia\n",
    "dim_cliente_com_sk_df = dim_cliente_df.alias(\"cliente\") \\\n",
    "    .join(dim_geografia_df.alias(\"geografia\"), \n",
    "          (col(\"cliente.Cidade\") == col(\"geografia.Cidade\")) &\n",
    "          (col(\"cliente.Estado\") == col(\"geografia.Estado\")) &\n",
    "          (col(\"cliente.Regiao\") == col(\"geografia.Regiao\")) &\n",
    "          (col(\"cliente.Distrito\") == col(\"geografia.Distrito\")) &\n",
    "          (col(\"cliente.Pais\") == col(\"geografia.Pais\")) &\n",
    "          (col(\"cliente.CodigoPostal\") == col(\"geografia.CodigoPostal\")), \n",
    "          \"left\") \\\n",
    "    .select(\"cliente.IDCliente\", \"cliente.Nome\", \"cliente.Email\", \"geografia.sk_geografia\")\n",
    "\n",
    "# Passo 3 - Adicionar chave substituta\n",
    "dim_cliente_com_sk_df = dim_cliente_com_sk_df.withColumn(\"sk_cliente\", monotonically_increasing_id()+1)\n",
    "\n",
    "# Passo 4 - Selecionar colunas específicas\n",
    "dim_cliente_com_sk_df = dim_cliente_com_sk_df.select(\"IDCliente\", \"Nome\",\"Email\", \"sk_geografia\", \"sk_cliente\")\n",
    "\n",
    "# Passo 5 - Escrever DimCliente no formato Delta\n",
    "dim_cliente_com_sk_df.write.format(\"delta\").mode(\"overwrite\").save(f\"{gold_path}/{tb_destino}\")\n",
    "\n",
    "dim_cliente_com_sk_df.count()"
   ]
  },
  {
   "cell_type": "markdown",
   "metadata": {
    "application/vnd.databricks.v1+cell": {
     "cellMetadata": {},
     "inputWidgets": {},
     "nuid": "1894f40d-60d7-46e9-bd54-69fe71351f2a",
     "showTitle": false,
     "title": ""
    }
   },
   "source": [
    "### Criação de Tabela Fato"
   ]
  },
  {
   "cell_type": "code",
   "execution_count": 0,
   "metadata": {
    "application/vnd.databricks.v1+cell": {
     "cellMetadata": {
      "byteLimit": 2048000,
      "rowLimit": 10000
     },
     "inputWidgets": {},
     "nuid": "37b8b3eb-b651-4f33-a31c-7003a1285f04",
     "showTitle": false,
     "title": ""
    }
   },
   "outputs": [
    {
     "output_type": "stream",
     "name": "stdout",
     "output_type": "stream",
     "text": [
      "Out[10]: 112202"
     ]
    }
   ],
   "source": [
    "#Nome tabela destino\n",
    "tb_destino = \"fato_vendas\"\n",
    "\n",
    "from pyspark.sql.functions import broadcast,year, month\n",
    "# Juntar dados da Silver com tabelas de dimensões para obter as chaves substitutas\n",
    "fato_vendas_df = df_silver.alias(\"s\") \\\n",
    "    .join(broadcast(dim_produto_df.select(\"IDProduto\", \"sk_produto\").alias(\"dprod\")), \"IDProduto\") \\\n",
    "    .join(broadcast(dim_categoria_df.select(\"Categoria\", \"sk_categoria\").alias(\"dcat\")), \"Categoria\") \\\n",
    "    .join(broadcast(dim_segmento_df.select(\"Segmento\", \"sk_segmento\").alias(\"dseg\")), \"Segmento\") \\\n",
    "    .join(broadcast(dim_fabricante_df.select(\"Fabricante\", \"sk_fabricante\").alias(\"dfab\")), \"Fabricante\") \\\n",
    "    .join(broadcast(dim_cliente_com_sk_df.select(\"IDCliente\", \"sk_cliente\").alias(\"dcli\")), \"IDCliente\") \\\n",
    "    .select(\n",
    "        col(\"s.Data\").alias(\"DataVenda\"),\n",
    "        \"sk_produto\",\n",
    "        \"sk_categoria\",\n",
    "        \"sk_segmento\",\n",
    "        \"sk_fabricante\",\n",
    "        \"sk_cliente\",\n",
    "        \"Unidades\",\n",
    "        col(\"s.PrecoUnitario\"),\n",
    "        col(\"s.CustoUnitario\"),\n",
    "        col(\"s.TotalVendas\")\n",
    "    )\n",
    "\n",
    "# Escrever tabela Fato no formato Delta, particionando por DataVenda (ano e mês)\n",
    "fato_vendas_df.withColumn(\"Ano\", year(\"DataVenda\")) \\\n",
    "             .withColumn(\"Mes\", month(\"DataVenda\")) \\\n",
    "             .write.format(\"delta\") \\\n",
    "             .mode(\"overwrite\")\\\n",
    "             .option(\"MaxRecordsPerFile\", 1000000)\\\n",
    "             .partitionBy(\"Ano\", \"Mes\")\\\n",
    "             .save(f\"{gold_path}/{tb_destino}\")\n",
    "\n",
    "fato_vendas_df.count()             "
   ]
  },
  {
   "cell_type": "markdown",
   "metadata": {
    "application/vnd.databricks.v1+cell": {
     "cellMetadata": {},
     "inputWidgets": {},
     "nuid": "c47ecd5e-a69c-490b-9dc0-52c5ef5762aa",
     "showTitle": false,
     "title": ""
    }
   },
   "source": [
    "### Limpeza de Memória"
   ]
  },
  {
   "cell_type": "code",
   "execution_count": 0,
   "metadata": {
    "application/vnd.databricks.v1+cell": {
     "cellMetadata": {
      "byteLimit": 2048000,
      "rowLimit": 10000
     },
     "inputWidgets": {},
     "nuid": "27462067-a7da-4f34-b982-e310dc50e3f0",
     "showTitle": false,
     "title": ""
    }
   },
   "outputs": [],
   "source": [
    "import gc\n",
    "\n",
    "# Coletar lixo após operações pesadas para liberar memória\n",
    "gc.collect()\n",
    "\n",
    "# Limpar todos os dados em cache\n",
    "spark.catalog.clearCache()"
   ]
  },
  {
   "cell_type": "markdown",
   "metadata": {
    "application/vnd.databricks.v1+cell": {
     "cellMetadata": {},
     "inputWidgets": {},
     "nuid": "1cd6a30c-3006-45e9-a214-804f6585fc90",
     "showTitle": false,
     "title": ""
    }
   },
   "source": [
    "###Evidências de Carga na Camada Gold (Delta)"
   ]
  },
  {
   "cell_type": "code",
   "execution_count": 0,
   "metadata": {
    "application/vnd.databricks.v1+cell": {
     "cellMetadata": {
      "byteLimit": 2048000,
      "rowLimit": 10000
     },
     "inputWidgets": {},
     "nuid": "e0e27062-e5d1-43ee-a2b7-b3cf8fe1bd23",
     "showTitle": false,
     "title": ""
    }
   },
   "outputs": [
    {
     "output_type": "display_data",
     "data": {
      "text/html": [
       "<style scoped>\n",
       "  .table-result-container {\n",
       "    max-height: 300px;\n",
       "    overflow: auto;\n",
       "  }\n",
       "  table, th, td {\n",
       "    border: 1px solid black;\n",
       "    border-collapse: collapse;\n",
       "  }\n",
       "  th, td {\n",
       "    padding: 5px;\n",
       "  }\n",
       "  th {\n",
       "    text-align: left;\n",
       "  }\n",
       "</style><div class='table-result-container'><table class='table-result'><thead style='background-color: white'><tr><th>path</th><th>name</th><th>size</th><th>modificationTime</th></tr></thead><tbody><tr><td>dbfs:/mnt/lhdw/gold/vendas_delta/dim_categoria/</td><td>dim_categoria/</td><td>0</td><td>0</td></tr><tr><td>dbfs:/mnt/lhdw/gold/vendas_delta/dim_cliente/</td><td>dim_cliente/</td><td>0</td><td>0</td></tr><tr><td>dbfs:/mnt/lhdw/gold/vendas_delta/dim_fabricante/</td><td>dim_fabricante/</td><td>0</td><td>0</td></tr><tr><td>dbfs:/mnt/lhdw/gold/vendas_delta/dim_geografia/</td><td>dim_geografia/</td><td>0</td><td>0</td></tr><tr><td>dbfs:/mnt/lhdw/gold/vendas_delta/dim_produto/</td><td>dim_produto/</td><td>0</td><td>0</td></tr><tr><td>dbfs:/mnt/lhdw/gold/vendas_delta/dim_segmento/</td><td>dim_segmento/</td><td>0</td><td>0</td></tr><tr><td>dbfs:/mnt/lhdw/gold/vendas_delta/fato_vendas/</td><td>fato_vendas/</td><td>0</td><td>0</td></tr></tbody></table></div>"
      ]
     },
     "metadata": {
      "application/vnd.databricks.v1+output": {
       "addedWidgets": {},
       "aggData": [],
       "aggError": "",
       "aggOverflow": false,
       "aggSchema": [],
       "aggSeriesLimitReached": false,
       "aggType": "",
       "arguments": {},
       "columnCustomDisplayInfos": {},
       "data": [
        [
         "dbfs:/mnt/lhdw/gold/vendas_delta/dim_categoria/",
         "dim_categoria/",
         0,
         0
        ],
        [
         "dbfs:/mnt/lhdw/gold/vendas_delta/dim_cliente/",
         "dim_cliente/",
         0,
         0
        ],
        [
         "dbfs:/mnt/lhdw/gold/vendas_delta/dim_fabricante/",
         "dim_fabricante/",
         0,
         0
        ],
        [
         "dbfs:/mnt/lhdw/gold/vendas_delta/dim_geografia/",
         "dim_geografia/",
         0,
         0
        ],
        [
         "dbfs:/mnt/lhdw/gold/vendas_delta/dim_produto/",
         "dim_produto/",
         0,
         0
        ],
        [
         "dbfs:/mnt/lhdw/gold/vendas_delta/dim_segmento/",
         "dim_segmento/",
         0,
         0
        ],
        [
         "dbfs:/mnt/lhdw/gold/vendas_delta/fato_vendas/",
         "fato_vendas/",
         0,
         0
        ]
       ],
       "datasetInfos": [],
       "dbfsResultPath": null,
       "isJsonSchema": true,
       "metadata": {
        "isDbfsCommandResult": false
       },
       "overflow": false,
       "plotOptions": {
        "customPlotOptions": {},
        "displayType": "table",
        "pivotAggregation": null,
        "pivotColumns": null,
        "xColumns": null,
        "yColumns": null
       },
       "removedWidgets": [],
       "schema": [
        {
         "metadata": "{}",
         "name": "path",
         "type": "\"string\""
        },
        {
         "metadata": "{}",
         "name": "name",
         "type": "\"string\""
        },
        {
         "metadata": "{}",
         "name": "size",
         "type": "\"long\""
        },
        {
         "metadata": "{}",
         "name": "modificationTime",
         "type": "\"long\""
        }
       ],
       "type": "table"
      }
     },
     "output_type": "display_data"
    }
   ],
   "source": [
    "%fs ls /mnt/lhdw/gold/vendas_delta/"
   ]
  },
  {
   "cell_type": "code",
   "execution_count": 0,
   "metadata": {
    "application/vnd.databricks.v1+cell": {
     "cellMetadata": {
      "byteLimit": 2048000,
      "rowLimit": 10000
     },
     "inputWidgets": {},
     "nuid": "c33576d0-a19e-418f-8385-6e6a43498fe5",
     "showTitle": false,
     "title": ""
    }
   },
   "outputs": [
    {
     "output_type": "display_data",
     "data": {
      "text/html": [
       "<style scoped>\n",
       "  .table-result-container {\n",
       "    max-height: 300px;\n",
       "    overflow: auto;\n",
       "  }\n",
       "  table, th, td {\n",
       "    border: 1px solid black;\n",
       "    border-collapse: collapse;\n",
       "  }\n",
       "  th, td {\n",
       "    padding: 5px;\n",
       "  }\n",
       "  th {\n",
       "    text-align: left;\n",
       "  }\n",
       "</style><div class='table-result-container'><table class='table-result'><thead style='background-color: white'><tr><th>path</th><th>name</th><th>size</th><th>modificationTime</th></tr></thead><tbody><tr><td>dbfs:/mnt/lhdw/gold/vendas_delta/dim_categoria/_delta_log/</td><td>_delta_log/</td><td>0</td><td>0</td></tr><tr><td>dbfs:/mnt/lhdw/gold/vendas_delta/dim_categoria/part-00000-1dd104c8-4e15-43e4-bc5a-289d8da8da0b-c000.snappy.parquet</td><td>part-00000-1dd104c8-4e15-43e4-bc5a-289d8da8da0b-c000.snappy.parquet</td><td>948</td><td>1727786615000</td></tr></tbody></table></div>"
      ]
     },
     "metadata": {
      "application/vnd.databricks.v1+output": {
       "addedWidgets": {},
       "aggData": [],
       "aggError": "",
       "aggOverflow": false,
       "aggSchema": [],
       "aggSeriesLimitReached": false,
       "aggType": "",
       "arguments": {},
       "columnCustomDisplayInfos": {},
       "data": [
        [
         "dbfs:/mnt/lhdw/gold/vendas_delta/dim_categoria/_delta_log/",
         "_delta_log/",
         0,
         0
        ],
        [
         "dbfs:/mnt/lhdw/gold/vendas_delta/dim_categoria/part-00000-1dd104c8-4e15-43e4-bc5a-289d8da8da0b-c000.snappy.parquet",
         "part-00000-1dd104c8-4e15-43e4-bc5a-289d8da8da0b-c000.snappy.parquet",
         948,
         1727786615000
        ]
       ],
       "datasetInfos": [],
       "dbfsResultPath": null,
       "isJsonSchema": true,
       "metadata": {
        "isDbfsCommandResult": false
       },
       "overflow": false,
       "plotOptions": {
        "customPlotOptions": {},
        "displayType": "table",
        "pivotAggregation": null,
        "pivotColumns": null,
        "xColumns": null,
        "yColumns": null
       },
       "removedWidgets": [],
       "schema": [
        {
         "metadata": "{}",
         "name": "path",
         "type": "\"string\""
        },
        {
         "metadata": "{}",
         "name": "name",
         "type": "\"string\""
        },
        {
         "metadata": "{}",
         "name": "size",
         "type": "\"long\""
        },
        {
         "metadata": "{}",
         "name": "modificationTime",
         "type": "\"long\""
        }
       ],
       "type": "table"
      }
     },
     "output_type": "display_data"
    }
   ],
   "source": [
    "%fs ls /mnt/lhdw/gold/vendas_delta/dim_categoria/"
   ]
  },
  {
   "cell_type": "code",
   "execution_count": 0,
   "metadata": {
    "application/vnd.databricks.v1+cell": {
     "cellMetadata": {
      "byteLimit": 2048000,
      "rowLimit": 10000
     },
     "inputWidgets": {},
     "nuid": "85840e60-88c1-4b28-b57a-8ede244d52cd",
     "showTitle": false,
     "title": ""
    }
   },
   "outputs": [
    {
     "output_type": "display_data",
     "data": {
      "text/html": [
       "<style scoped>\n",
       "  .table-result-container {\n",
       "    max-height: 300px;\n",
       "    overflow: auto;\n",
       "  }\n",
       "  table, th, td {\n",
       "    border: 1px solid black;\n",
       "    border-collapse: collapse;\n",
       "  }\n",
       "  th, td {\n",
       "    padding: 5px;\n",
       "  }\n",
       "  th {\n",
       "    text-align: left;\n",
       "  }\n",
       "</style><div class='table-result-container'><table class='table-result'><thead style='background-color: white'><tr><th>path</th><th>name</th><th>size</th><th>modificationTime</th></tr></thead><tbody><tr><td>dbfs:/mnt/lhdw/gold/vendas_delta/fato_vendas/Ano=2011/Mes=1/</td><td>Mes=1/</td><td>0</td><td>0</td></tr><tr><td>dbfs:/mnt/lhdw/gold/vendas_delta/fato_vendas/Ano=2011/Mes=10/</td><td>Mes=10/</td><td>0</td><td>0</td></tr><tr><td>dbfs:/mnt/lhdw/gold/vendas_delta/fato_vendas/Ano=2011/Mes=11/</td><td>Mes=11/</td><td>0</td><td>0</td></tr><tr><td>dbfs:/mnt/lhdw/gold/vendas_delta/fato_vendas/Ano=2011/Mes=12/</td><td>Mes=12/</td><td>0</td><td>0</td></tr><tr><td>dbfs:/mnt/lhdw/gold/vendas_delta/fato_vendas/Ano=2011/Mes=2/</td><td>Mes=2/</td><td>0</td><td>0</td></tr><tr><td>dbfs:/mnt/lhdw/gold/vendas_delta/fato_vendas/Ano=2011/Mes=3/</td><td>Mes=3/</td><td>0</td><td>0</td></tr><tr><td>dbfs:/mnt/lhdw/gold/vendas_delta/fato_vendas/Ano=2011/Mes=4/</td><td>Mes=4/</td><td>0</td><td>0</td></tr><tr><td>dbfs:/mnt/lhdw/gold/vendas_delta/fato_vendas/Ano=2011/Mes=5/</td><td>Mes=5/</td><td>0</td><td>0</td></tr><tr><td>dbfs:/mnt/lhdw/gold/vendas_delta/fato_vendas/Ano=2011/Mes=6/</td><td>Mes=6/</td><td>0</td><td>0</td></tr><tr><td>dbfs:/mnt/lhdw/gold/vendas_delta/fato_vendas/Ano=2011/Mes=7/</td><td>Mes=7/</td><td>0</td><td>0</td></tr><tr><td>dbfs:/mnt/lhdw/gold/vendas_delta/fato_vendas/Ano=2011/Mes=8/</td><td>Mes=8/</td><td>0</td><td>0</td></tr><tr><td>dbfs:/mnt/lhdw/gold/vendas_delta/fato_vendas/Ano=2011/Mes=9/</td><td>Mes=9/</td><td>0</td><td>0</td></tr></tbody></table></div>"
      ]
     },
     "metadata": {
      "application/vnd.databricks.v1+output": {
       "addedWidgets": {},
       "aggData": [],
       "aggError": "",
       "aggOverflow": false,
       "aggSchema": [],
       "aggSeriesLimitReached": false,
       "aggType": "",
       "arguments": {},
       "columnCustomDisplayInfos": {},
       "data": [
        [
         "dbfs:/mnt/lhdw/gold/vendas_delta/fato_vendas/Ano=2011/Mes=1/",
         "Mes=1/",
         0,
         0
        ],
        [
         "dbfs:/mnt/lhdw/gold/vendas_delta/fato_vendas/Ano=2011/Mes=10/",
         "Mes=10/",
         0,
         0
        ],
        [
         "dbfs:/mnt/lhdw/gold/vendas_delta/fato_vendas/Ano=2011/Mes=11/",
         "Mes=11/",
         0,
         0
        ],
        [
         "dbfs:/mnt/lhdw/gold/vendas_delta/fato_vendas/Ano=2011/Mes=12/",
         "Mes=12/",
         0,
         0
        ],
        [
         "dbfs:/mnt/lhdw/gold/vendas_delta/fato_vendas/Ano=2011/Mes=2/",
         "Mes=2/",
         0,
         0
        ],
        [
         "dbfs:/mnt/lhdw/gold/vendas_delta/fato_vendas/Ano=2011/Mes=3/",
         "Mes=3/",
         0,
         0
        ],
        [
         "dbfs:/mnt/lhdw/gold/vendas_delta/fato_vendas/Ano=2011/Mes=4/",
         "Mes=4/",
         0,
         0
        ],
        [
         "dbfs:/mnt/lhdw/gold/vendas_delta/fato_vendas/Ano=2011/Mes=5/",
         "Mes=5/",
         0,
         0
        ],
        [
         "dbfs:/mnt/lhdw/gold/vendas_delta/fato_vendas/Ano=2011/Mes=6/",
         "Mes=6/",
         0,
         0
        ],
        [
         "dbfs:/mnt/lhdw/gold/vendas_delta/fato_vendas/Ano=2011/Mes=7/",
         "Mes=7/",
         0,
         0
        ],
        [
         "dbfs:/mnt/lhdw/gold/vendas_delta/fato_vendas/Ano=2011/Mes=8/",
         "Mes=8/",
         0,
         0
        ],
        [
         "dbfs:/mnt/lhdw/gold/vendas_delta/fato_vendas/Ano=2011/Mes=9/",
         "Mes=9/",
         0,
         0
        ]
       ],
       "datasetInfos": [],
       "dbfsResultPath": null,
       "isJsonSchema": true,
       "metadata": {
        "isDbfsCommandResult": false
       },
       "overflow": false,
       "plotOptions": {
        "customPlotOptions": {},
        "displayType": "table",
        "pivotAggregation": null,
        "pivotColumns": null,
        "xColumns": null,
        "yColumns": null
       },
       "removedWidgets": [],
       "schema": [
        {
         "metadata": "{}",
         "name": "path",
         "type": "\"string\""
        },
        {
         "metadata": "{}",
         "name": "name",
         "type": "\"string\""
        },
        {
         "metadata": "{}",
         "name": "size",
         "type": "\"long\""
        },
        {
         "metadata": "{}",
         "name": "modificationTime",
         "type": "\"long\""
        }
       ],
       "type": "table"
      }
     },
     "output_type": "display_data"
    }
   ],
   "source": [
    "%fs ls /mnt/lhdw/gold/vendas_delta/fato_vendas/Ano=2011/"
   ]
  }
 ],
 "metadata": {
  "application/vnd.databricks.v1+notebook": {
   "dashboards": [],
   "environmentMetadata": null,
   "language": "python",
   "notebookMetadata": {
    "mostRecentlyExecutedCommandWithImplicitDF": {
     "commandId": 4166166569556529,
     "dataframes": [
      "_sqldf"
     ]
    },
    "pythonIndentUnit": 4
   },
   "notebookName": "004 Load Gold Delta",
   "widgets": {}
  }
 },
 "nbformat": 4,
 "nbformat_minor": 0
}
